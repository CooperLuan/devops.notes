{
 "metadata": {
  "name": "",
  "signature": "sha256:8ab6da390827d5b6b0aba7dd309d1580338e650a5f9500eba71b93ee309a5d6c"
 },
 "nbformat": 3,
 "nbformat_minor": 0,
 "worksheets": [
  {
   "cells": [
    {
     "cell_type": "markdown",
     "metadata": {},
     "source": [
      "## Job Market with Pandas Part 2\n",
      "[\u6570\u636e\u5f15\u7528](http://pawelmhm.github.io/python/pandas/2015/01/01/python-job-analytics.html)  \n",
      "\n",
      "\u5728 Part 1 \u7684\u57fa\u7840\u4e0a\uff0c\u770b\u4e86\u6587\u7ae0\u4e4b\u540e\u5b66\u4e60\u7684\u4e1c\u897f"
     ]
    },
    {
     "cell_type": "code",
     "collapsed": false,
     "input": [
      "import re\n",
      "import pandas as pd\n",
      "import numpy as np\n",
      "df = pd.read_csv('data/job_market.csv')\n",
      "df = df.drop(['link', 'description', 'page_number'], axis=1)\n",
      "%matplotlib inline"
     ],
     "language": "python",
     "metadata": {},
     "outputs": [],
     "prompt_number": 1
    },
    {
     "cell_type": "markdown",
     "metadata": {},
     "source": [
      "## \u67e5\u770b\u6240\u6709\u804c\u4f4d\u5730\u533a Top N"
     ]
    },
    {
     "cell_type": "code",
     "collapsed": false,
     "input": [
      "df.location.value_counts().head(10)"
     ],
     "language": "python",
     "metadata": {},
     "outputs": [
      {
       "metadata": {},
       "output_type": "pyout",
       "prompt_number": 2,
       "text": [
        "London         203\n",
        "Cambridge       42\n",
        "Bristol         19\n",
        "Reading         19\n",
        "Manchester      16\n",
        "Berkhamsted     15\n",
        "Devon           15\n",
        "Oxford          11\n",
        "Hatfield         8\n",
        "USA              8\n",
        "dtype: int64"
       ]
      }
     ],
     "prompt_number": 2
    },
    {
     "cell_type": "markdown",
     "metadata": {},
     "source": [
      "## \u67e5\u770b\u8fd9\u4e9b\u5730\u533a\u804c\u4f4d\u7684\u5e73\u5747\u7533\u8bf7\u6570\u91cf"
     ]
    },
    {
     "cell_type": "code",
     "collapsed": false,
     "input": [
      "top_locations = df.location.value_counts().head(10)\n",
      "df2 = df[df.location.isin(top_locations.keys())]\n",
      "grouped = df2.groupby('location')\n",
      "grouped.applications.sum() / grouped.id.count()"
     ],
     "language": "python",
     "metadata": {},
     "outputs": [
      {
       "metadata": {},
       "output_type": "pyout",
       "prompt_number": 3,
       "text": [
        "location\n",
        "Berkhamsted    2.333333\n",
        "Bristol        4.157895\n",
        "Cambridge      2.523810\n",
        "Devon          7.666667\n",
        "Hatfield       3.000000\n",
        "London         7.935961\n",
        "Manchester     2.125000\n",
        "Oxford         4.181818\n",
        "Reading        3.631579\n",
        "USA            5.375000\n",
        "dtype: float64"
       ]
      }
     ],
     "prompt_number": 3
    },
    {
     "cell_type": "markdown",
     "metadata": {},
     "source": [
      "## \u67e5\u770b\u5404\u5730\u533a\u6700\u9ad8\u5de5\u8d44\u804c\u4f4d\u7684\u5e73\u5747\u503c"
     ]
    },
    {
     "cell_type": "code",
     "collapsed": false,
     "input": [
      "df2.groupby('location').salary_max.mean()"
     ],
     "language": "python",
     "metadata": {},
     "outputs": [
      {
       "metadata": {},
       "output_type": "pyout",
       "prompt_number": 4,
       "text": [
        "location\n",
        "Berkhamsted    203714.285714\n",
        "Bristol         52352.941176\n",
        "Cambridge       46720.000000\n",
        "Devon                    NaN\n",
        "Hatfield        60000.000000\n",
        "London          62846.376812\n",
        "Manchester      74733.333333\n",
        "Oxford          56666.666667\n",
        "Reading         41642.857143\n",
        "USA            154285.714286\n",
        "Name: salary_max, dtype: float64"
       ]
      }
     ],
     "prompt_number": 4
    },
    {
     "cell_type": "markdown",
     "metadata": {},
     "source": [
      "## \u6ca1\u4eba\u7533\u8bf7\u7684\u804c\u4f4d"
     ]
    },
    {
     "cell_type": "code",
     "collapsed": false,
     "input": [
      "df3 = df.query(\"applications == 0\")[['title', 'location', 'salary_min', 'salary_max', 'found', 'published']]\n",
      "df3.head()"
     ],
     "language": "python",
     "metadata": {},
     "outputs": [
      {
       "html": [
        "<div style=\"max-height:1000px;max-width:1500px;overflow:auto;\">\n",
        "<table border=\"1\" class=\"dataframe\">\n",
        "  <thead>\n",
        "    <tr style=\"text-align: right;\">\n",
        "      <th></th>\n",
        "      <th>title</th>\n",
        "      <th>location</th>\n",
        "      <th>salary_min</th>\n",
        "      <th>salary_max</th>\n",
        "      <th>found</th>\n",
        "      <th>published</th>\n",
        "    </tr>\n",
        "  </thead>\n",
        "  <tbody>\n",
        "    <tr>\n",
        "      <th>0</th>\n",
        "      <td> WDF, Python Developer Data Focused with Java, ...</td>\n",
        "      <td> London</td>\n",
        "      <td>   NaN</td>\n",
        "      <td>   NaN</td>\n",
        "      <td> 2014-12-26T21:54:34.050102</td>\n",
        "      <td> 2014-12-22T21:54:34.049654</td>\n",
        "    </tr>\n",
        "    <tr>\n",
        "      <th>2</th>\n",
        "      <td> Python Developer - Django / PostgreSQL / HTML ...</td>\n",
        "      <td>  Crewe</td>\n",
        "      <td> 25000</td>\n",
        "      <td> 35000</td>\n",
        "      <td> 2014-12-26T21:54:34.054577</td>\n",
        "      <td> 2014-12-22T21:54:34.054197</td>\n",
        "    </tr>\n",
        "    <tr>\n",
        "      <th>5</th>\n",
        "      <td> BI Developer - Python - Disruptive Technology ...</td>\n",
        "      <td> London</td>\n",
        "      <td> 45000</td>\n",
        "      <td> 55000</td>\n",
        "      <td> 2014-12-26T21:54:34.063716</td>\n",
        "      <td> 2014-12-26T21:54:34.063350</td>\n",
        "    </tr>\n",
        "    <tr>\n",
        "      <th>6</th>\n",
        "      <td>                                  Python Developer</td>\n",
        "      <td> London</td>\n",
        "      <td> 40000</td>\n",
        "      <td> 48000</td>\n",
        "      <td> 2014-12-26T21:54:34.067126</td>\n",
        "      <td> 2014-12-26T21:54:34.066736</td>\n",
        "    </tr>\n",
        "    <tr>\n",
        "      <th>9</th>\n",
        "      <td> BI Developer - Python - Disruptive Technology ...</td>\n",
        "      <td> London</td>\n",
        "      <td> 45000</td>\n",
        "      <td> 55000</td>\n",
        "      <td> 2014-12-26T21:54:34.075229</td>\n",
        "      <td> 2014-12-26T21:54:34.074823</td>\n",
        "    </tr>\n",
        "  </tbody>\n",
        "</table>\n",
        "</div>"
       ],
       "metadata": {},
       "output_type": "pyout",
       "prompt_number": 5,
       "text": [
        "                                               title location  salary_min  \\\n",
        "0  WDF, Python Developer Data Focused with Java, ...   London         NaN   \n",
        "2  Python Developer - Django / PostgreSQL / HTML ...    Crewe       25000   \n",
        "5  BI Developer - Python - Disruptive Technology ...   London       45000   \n",
        "6                                   Python Developer   London       40000   \n",
        "9  BI Developer - Python - Disruptive Technology ...   London       45000   \n",
        "\n",
        "   salary_max                       found                   published  \n",
        "0         NaN  2014-12-26T21:54:34.050102  2014-12-22T21:54:34.049654  \n",
        "2       35000  2014-12-26T21:54:34.054577  2014-12-22T21:54:34.054197  \n",
        "5       55000  2014-12-26T21:54:34.063716  2014-12-26T21:54:34.063350  \n",
        "6       48000  2014-12-26T21:54:34.067126  2014-12-26T21:54:34.066736  \n",
        "9       55000  2014-12-26T21:54:34.075229  2014-12-26T21:54:34.074823  "
       ]
      }
     ],
     "prompt_number": 5
    },
    {
     "cell_type": "code",
     "collapsed": false,
     "input": [
      "df3.describe()"
     ],
     "language": "python",
     "metadata": {},
     "outputs": [
      {
       "html": [
        "<div style=\"max-height:1000px;max-width:1500px;overflow:auto;\">\n",
        "<table border=\"1\" class=\"dataframe\">\n",
        "  <thead>\n",
        "    <tr style=\"text-align: right;\">\n",
        "      <th></th>\n",
        "      <th>salary_min</th>\n",
        "      <th>salary_max</th>\n",
        "    </tr>\n",
        "  </thead>\n",
        "  <tbody>\n",
        "    <tr>\n",
        "      <th>count</th>\n",
        "      <td>     65.000000</td>\n",
        "      <td>     65.000000</td>\n",
        "    </tr>\n",
        "    <tr>\n",
        "      <th>mean</th>\n",
        "      <td>  51898.215385</td>\n",
        "      <td>  66288.215385</td>\n",
        "    </tr>\n",
        "    <tr>\n",
        "      <th>std</th>\n",
        "      <td>  39004.014627</td>\n",
        "      <td>  44160.225622</td>\n",
        "    </tr>\n",
        "    <tr>\n",
        "      <th>min</th>\n",
        "      <td>  20000.000000</td>\n",
        "      <td>  28000.000000</td>\n",
        "    </tr>\n",
        "    <tr>\n",
        "      <th>25%</th>\n",
        "      <td>  30000.000000</td>\n",
        "      <td>  40000.000000</td>\n",
        "    </tr>\n",
        "    <tr>\n",
        "      <th>50%</th>\n",
        "      <td>  45000.000000</td>\n",
        "      <td>  55000.000000</td>\n",
        "    </tr>\n",
        "    <tr>\n",
        "      <th>75%</th>\n",
        "      <td>  55000.000000</td>\n",
        "      <td>  75000.000000</td>\n",
        "    </tr>\n",
        "    <tr>\n",
        "      <th>max</th>\n",
        "      <td> 240000.000000</td>\n",
        "      <td> 276000.000000</td>\n",
        "    </tr>\n",
        "  </tbody>\n",
        "</table>\n",
        "</div>"
       ],
       "metadata": {},
       "output_type": "pyout",
       "prompt_number": 6,
       "text": [
        "          salary_min     salary_max\n",
        "count      65.000000      65.000000\n",
        "mean    51898.215385   66288.215385\n",
        "std     39004.014627   44160.225622\n",
        "min     20000.000000   28000.000000\n",
        "25%     30000.000000   40000.000000\n",
        "50%     45000.000000   55000.000000\n",
        "75%     55000.000000   75000.000000\n",
        "max    240000.000000  276000.000000"
       ]
      }
     ],
     "prompt_number": 6
    },
    {
     "cell_type": "code",
     "collapsed": false,
     "input": [
      "df3['daysOn'] = df3.found.astype(np.datetime64) - df3.published.astype(np.datetime64)\n",
      "df3.head()"
     ],
     "language": "python",
     "metadata": {},
     "outputs": [
      {
       "html": [
        "<div style=\"max-height:1000px;max-width:1500px;overflow:auto;\">\n",
        "<table border=\"1\" class=\"dataframe\">\n",
        "  <thead>\n",
        "    <tr style=\"text-align: right;\">\n",
        "      <th></th>\n",
        "      <th>title</th>\n",
        "      <th>location</th>\n",
        "      <th>salary_min</th>\n",
        "      <th>salary_max</th>\n",
        "      <th>found</th>\n",
        "      <th>published</th>\n",
        "      <th>daysOn</th>\n",
        "    </tr>\n",
        "  </thead>\n",
        "  <tbody>\n",
        "    <tr>\n",
        "      <th>0</th>\n",
        "      <td> WDF, Python Developer Data Focused with Java, ...</td>\n",
        "      <td> London</td>\n",
        "      <td>   NaN</td>\n",
        "      <td>   NaN</td>\n",
        "      <td> 2014-12-26T21:54:34.050102</td>\n",
        "      <td> 2014-12-22T21:54:34.049654</td>\n",
        "      <td>4 days 00:00:00.000448</td>\n",
        "    </tr>\n",
        "    <tr>\n",
        "      <th>2</th>\n",
        "      <td> Python Developer - Django / PostgreSQL / HTML ...</td>\n",
        "      <td>  Crewe</td>\n",
        "      <td> 25000</td>\n",
        "      <td> 35000</td>\n",
        "      <td> 2014-12-26T21:54:34.054577</td>\n",
        "      <td> 2014-12-22T21:54:34.054197</td>\n",
        "      <td>4 days 00:00:00.000380</td>\n",
        "    </tr>\n",
        "    <tr>\n",
        "      <th>5</th>\n",
        "      <td> BI Developer - Python - Disruptive Technology ...</td>\n",
        "      <td> London</td>\n",
        "      <td> 45000</td>\n",
        "      <td> 55000</td>\n",
        "      <td> 2014-12-26T21:54:34.063716</td>\n",
        "      <td> 2014-12-26T21:54:34.063350</td>\n",
        "      <td>0 days 00:00:00.000366</td>\n",
        "    </tr>\n",
        "    <tr>\n",
        "      <th>6</th>\n",
        "      <td>                                  Python Developer</td>\n",
        "      <td> London</td>\n",
        "      <td> 40000</td>\n",
        "      <td> 48000</td>\n",
        "      <td> 2014-12-26T21:54:34.067126</td>\n",
        "      <td> 2014-12-26T21:54:34.066736</td>\n",
        "      <td>0 days 00:00:00.000390</td>\n",
        "    </tr>\n",
        "    <tr>\n",
        "      <th>9</th>\n",
        "      <td> BI Developer - Python - Disruptive Technology ...</td>\n",
        "      <td> London</td>\n",
        "      <td> 45000</td>\n",
        "      <td> 55000</td>\n",
        "      <td> 2014-12-26T21:54:34.075229</td>\n",
        "      <td> 2014-12-26T21:54:34.074823</td>\n",
        "      <td>0 days 00:00:00.000406</td>\n",
        "    </tr>\n",
        "  </tbody>\n",
        "</table>\n",
        "</div>"
       ],
       "metadata": {},
       "output_type": "pyout",
       "prompt_number": 7,
       "text": [
        "                                               title location  salary_min  \\\n",
        "0  WDF, Python Developer Data Focused with Java, ...   London         NaN   \n",
        "2  Python Developer - Django / PostgreSQL / HTML ...    Crewe       25000   \n",
        "5  BI Developer - Python - Disruptive Technology ...   London       45000   \n",
        "6                                   Python Developer   London       40000   \n",
        "9  BI Developer - Python - Disruptive Technology ...   London       45000   \n",
        "\n",
        "   salary_max                       found                   published  \\\n",
        "0         NaN  2014-12-26T21:54:34.050102  2014-12-22T21:54:34.049654   \n",
        "2       35000  2014-12-26T21:54:34.054577  2014-12-22T21:54:34.054197   \n",
        "5       55000  2014-12-26T21:54:34.063716  2014-12-26T21:54:34.063350   \n",
        "6       48000  2014-12-26T21:54:34.067126  2014-12-26T21:54:34.066736   \n",
        "9       55000  2014-12-26T21:54:34.075229  2014-12-26T21:54:34.074823   \n",
        "\n",
        "                  daysOn  \n",
        "0 4 days 00:00:00.000448  \n",
        "2 4 days 00:00:00.000380  \n",
        "5 0 days 00:00:00.000366  \n",
        "6 0 days 00:00:00.000390  \n",
        "9 0 days 00:00:00.000406  "
       ]
      }
     ],
     "prompt_number": 7
    },
    {
     "cell_type": "code",
     "collapsed": false,
     "input": [
      "df3['daysOnInt'] = df3['daysOn'].apply(lambda x: np.timedelta64(x, 'D').astype(int))\n",
      "df3.daysOnInt.describe()"
     ],
     "language": "python",
     "metadata": {},
     "outputs": [
      {
       "metadata": {},
       "output_type": "pyout",
       "prompt_number": 8,
       "text": [
        "count    101.000000\n",
        "mean      13.336634\n",
        "std       12.210059\n",
        "min        0.000000\n",
        "25%        4.000000\n",
        "50%        9.000000\n",
        "75%       17.000000\n",
        "max       46.000000\n",
        "Name: daysOnInt, dtype: float64"
       ]
      }
     ],
     "prompt_number": 8
    },
    {
     "cell_type": "code",
     "collapsed": false,
     "input": [
      "df3.location.value_counts().head(10)"
     ],
     "language": "python",
     "metadata": {},
     "outputs": [
      {
       "metadata": {},
       "output_type": "pyout",
       "prompt_number": 9,
       "text": [
        "London         30\n",
        "Cambridge      13\n",
        "Manchester      6\n",
        "Southampton     3\n",
        "Surrey          3\n",
        "Bristol         2\n",
        "Windsor         2\n",
        "Hungerford      2\n",
        "Leicester       2\n",
        "Devon           2\n",
        "dtype: int64"
       ]
      }
     ],
     "prompt_number": 9
    }
   ],
   "metadata": {}
  }
 ]
}