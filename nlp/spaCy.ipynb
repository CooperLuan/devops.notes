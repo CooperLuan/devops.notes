{
 "metadata": {
  "name": "",
  "signature": "sha256:b415f6c138fc51a24c927632e30db1174654fa19c4afd74d71ae22274460289d"
 },
 "nbformat": 3,
 "nbformat_minor": 0,
 "worksheets": [
  {
   "cells": [
    {
     "cell_type": "markdown",
     "metadata": {},
     "source": [
      "# \u5b98\u65b9 DOC \u7ec3\u4e60\n",
      "\n",
      "## \u5b89\u88c5\n",
      "\n",
      "```sh\n",
      "pip install spacy\n",
      "python -m spacy.en.download\n",
      "```\n"
     ]
    },
    {
     "cell_type": "code",
     "collapsed": false,
     "input": [
      "import spacy.en\n",
      "from spacy.parts_of_speech import ADV"
     ],
     "language": "python",
     "metadata": {},
     "outputs": [],
     "prompt_number": 1
    },
    {
     "cell_type": "code",
     "collapsed": false,
     "input": [
      "nlp = spacy.en.English()\n",
      "tokens = nlp(\n",
      "    \"\u2018Give it back,\u2019 he pleaded abjectly, \u2018it\u2019s mine.\u2019\",\n",
      "    tag=True, parse=False)\n",
      "posed_tokens = [tok.string.upper() if tok.pos == ADV else tok.string for tok in tokens]\n",
      "print(''.join(posed_tokens))"
     ],
     "language": "python",
     "metadata": {},
     "outputs": []
    },
    {
     "cell_type": "code",
     "collapsed": false,
     "input": [
      "nlp.vocab['test'].prob"
     ],
     "language": "python",
     "metadata": {},
     "outputs": []
    }
   ],
   "metadata": {}
  }
 ]
}