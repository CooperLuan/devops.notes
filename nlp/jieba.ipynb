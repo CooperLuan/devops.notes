{
 "metadata": {
  "name": "",
  "signature": "sha256:e9c7f472346f4d84820329ad82018d8d8a809b8f610e684ed3e277dc05b5563a"
 },
 "nbformat": 3,
 "nbformat_minor": 0,
 "worksheets": [
  {
   "cells": [
    {
     "cell_type": "markdown",
     "metadata": {},
     "source": [
      "# jieba \u4e2d\u6587\u5206\u8bcd\n",
      "\n",
      "## \u7b80\u4ecb & \u7279\u6027\n",
      "\n",
      "- \u5206\u8bcd\n",
      "- \u6dfb\u52a0\u81ea\u5b9a\u4e49\u8bcd\u5178\n",
      "- \u5173\u952e\u8bcd\u63d0\u53d6\n",
      "- \u8bcd\u6027\u6807\u6ce8\n",
      "- \u5e76\u884c\u5206\u8bcd\n",
      "\n",
      "## \u5b89\u88c5\n",
      "\n",
      "```sh\n",
      "# for python2\n",
      "pip install jieba\n",
      "# for python3\n",
      "pip install jieba3k\n",
      "```\n"
     ]
    },
    {
     "cell_type": "code",
     "collapsed": false,
     "input": [],
     "language": "python",
     "metadata": {},
     "outputs": []
    }
   ],
   "metadata": {}
  }
 ]
}