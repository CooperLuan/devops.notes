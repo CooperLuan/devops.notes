{
 "metadata": {
  "name": "",
  "signature": "sha256:134d0f2d6c3ed9add1d2dc5e9895d30304667015a1ae1c3790a5aa4146d48c72"
 },
 "nbformat": 3,
 "nbformat_minor": 0,
 "worksheets": [
  {
   "cells": [
    {
     "cell_type": "markdown",
     "metadata": {},
     "source": [
      "# [Reshaping and Pivot Tables](http://pandas.pydata.org/pandas-docs/stable/reshaping.html)"
     ]
    },
    {
     "cell_type": "code",
     "collapsed": false,
     "input": [],
     "language": "python",
     "metadata": {},
     "outputs": []
    }
   ],
   "metadata": {}
  }
 ]
}