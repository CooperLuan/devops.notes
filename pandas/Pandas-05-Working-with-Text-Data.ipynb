{
 "metadata": {
  "name": "",
  "signature": "sha256:2fd17c5d8d966fe8f96b13f6e64faffb5809636860a22508a149280ac8159766"
 },
 "nbformat": 3,
 "nbformat_minor": 0,
 "worksheets": [
  {
   "cells": [
    {
     "cell_type": "code",
     "collapsed": false,
     "input": [
      "%run setup_env.py"
     ],
     "language": "python",
     "metadata": {},
     "outputs": []
    },
    {
     "cell_type": "markdown",
     "metadata": {},
     "source": [
      "# Working with Text Data"
     ]
    },
    {
     "cell_type": "code",
     "collapsed": false,
     "input": [
      "s = pd.Series(['A', 'B', 'C', 'Aaba', 'Baca', np.nan, 'CABA', 'dog', 'cat'])\n",
      "display_pretty(s.str.lower(), s.str.upper(), s.str.len())"
     ],
     "language": "python",
     "metadata": {},
     "outputs": []
    },
    {
     "cell_type": "markdown",
     "metadata": {},
     "source": [
      "## Splitting and Replacing Strings"
     ]
    },
    {
     "cell_type": "code",
     "collapsed": false,
     "input": [
      "log.info('splitting')\n",
      "s2 = pd.Series(['a_b_c', 'c_d_e', np.nan, 'f_g_h_z'])\n",
      "display_pretty(s2.str.split('_').apply(pd.Series))\n",
      "\n",
      "log.info('replacing')\n",
      "s3 = pd.Series(['A', 'B', 'C', 'Aaba', 'Baca',\n",
      "            '', np.nan, 'CABA', 'dog', 'cat'])\n",
      "display_pretty(s3.str.replace('^.a|dog', 'XX-XX ', case=False))\n",
      "\n",
      "log.info('extracting substrings')\n",
      "s = pd.Series(['a1', 'b2', 'c3']).str.extract('(?P<letter>[ab])(?P<digit>\\d)')\n",
      "display_pretty(s)"
     ],
     "language": "python",
     "metadata": {},
     "outputs": []
    }
   ],
   "metadata": {}
  }
 ]
}