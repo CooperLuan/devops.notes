{
 "metadata": {
  "name": "",
  "signature": "sha256:00887978e3a86863f2731b7bee69606ab563ab99b33da426060287f55dfb3a7d"
 },
 "nbformat": 3,
 "nbformat_minor": 0,
 "worksheets": [
  {
   "cells": [
    {
     "cell_type": "code",
     "collapsed": false,
     "input": [
      "%run setup_env.py\n",
      "%matplotlib inline"
     ],
     "language": "python",
     "metadata": {},
     "outputs": []
    },
    {
     "cell_type": "markdown",
     "metadata": {},
     "source": [
      "# 10 Minutes to pandas\n",
      "## Object Creation"
     ]
    },
    {
     "cell_type": "code",
     "collapsed": false,
     "input": [
      "log.info('creating Series')\n",
      "a = pd.Series((1,2,4,np.nan,5,9))\n",
      "display_pretty(a)\n",
      "\n",
      "log.info('creating DataFrame using index and columns')\n",
      "dates = pd.date_range('20140301', periods=6, freq='M')\n",
      "df = pd.DataFrame(np.random.rand(6, 4), index=dates, columns=list('ABCD'))\n",
      "display_pretty(df)\n",
      "\n",
      "log.info('creating DataFrame using dict')\n",
      "df2 = pd.DataFrame({\n",
      "    'C1': 1,\n",
      "    'C2': np.arange(4),\n",
      "    'C3': pd.Series(1, index=range(4)),\n",
      "    'C4': pd.Categorical(['A', 'B', 'C', 'D']),\n",
      "    'C5': 'Ubuntu',\n",
      "    'C6': 'OK',\n",
      "})\n",
      "display_pretty(df2)"
     ],
     "language": "python",
     "metadata": {},
     "outputs": []
    },
    {
     "cell_type": "markdown",
     "metadata": {},
     "source": [
      "## Viewing data\n",
      "\n",
      "- df.head\n",
      "- df.tail\n",
      "- df.index\n",
      "- df.columns\n",
      "- df.values\n",
      "- df.describe\n",
      "- df.sort\n",
      "- df.sort_index\n",
      "\n",
      "## Selection\n",
      "\n",
      "### getting\n",
      "\n",
      "\n",
      "```py\n",
      "df['A']\n",
      "df[:3]\n",
      "df['20140301':'20140501']\n",
      "```\n",
      "\n",
      "### selection by Label\n",
      "\n",
      "\n",
      "```py\n",
      "df.loc[dates[0]]\n",
      "df.loc[:, ['A', 'B']]\n",
      "df.loc['20140331':'20140531', ['A', 'B']]\n",
      "df.loc['20140331', ['A', 'B']]\n",
      "df.loc[dates[0], 'A']\n",
      "df.at[dates[0], 'A']\n",
      "```\n",
      "\n",
      "### selection by Position\n",
      "\n",
      "\n",
      "```py\n",
      "df.iloc[3]\n",
      "df.iloc[3:5, 0:2]\n",
      "df.iloc[:, [0, 3]]\n",
      "df.iloc[1,1]\n",
      "df.iat[1,1]\n",
      "```\n",
      "\n",
      "### Boolean Indexing\n",
      "\n",
      "```py\n",
      "df[df.A > 0]\n",
      "df[df > 0]\n",
      "df2[df2['C4'].isin(['A'])]\n",
      "```\n",
      "\n",
      "### Setting\n",
      "\n",
      "### Missing Data\n",
      "\n",
      "```py\n",
      "df.dropna(how='any')\n",
      "df.fillna(value=3)\n",
      "df.isnull(df)\n",
      "```\n",
      "\n",
      "## Operation\n",
      "\n",
      "### Stats\n",
      "\n",
      "```py\n",
      "df.mean()\n",
      "df.mean(1)\n",
      "df.sub    # \n",
      "```\n",
      "\n",
      "### Apply\n",
      "\n",
      "```py\n",
      "df.apply(np.cumsum)\n",
      "df.apply(lambda x: x.max() - x.min())\n",
      "```\n",
      "\n",
      "### Histogramming\n",
      "\n",
      "```py\n",
      "s = pd.Series(np.random.randint(0, 7, 10))\n",
      "s.value_counts()\n",
      "```\n",
      "\n",
      "### String Methods\n",
      "\n",
      "```py\n",
      "df2['C4'].str.lower()\n",
      "```\n",
      "\n",
      "## Merge\n",
      "\n",
      "### concat\n",
      "\n",
      "```py\n",
      "df = pd.DataFrame(np.random.randn(10, 4))\n",
      "pieces = [df[:3], df[3:7], df[7:]]\n",
      "pd.concat(pieces)\n",
      "```\n",
      "\n",
      "### join"
     ]
    },
    {
     "cell_type": "code",
     "collapsed": false,
     "input": [
      "left = pd.DataFrame({'key': ['foo', 'foo'], 'lval': [1, 2]})\n",
      "right = pd.DataFrame({'key': ['foo', 'foo'], 'rval': [4, 5]})\n",
      "pd.merge(left, right, on='key')"
     ],
     "language": "python",
     "metadata": {},
     "outputs": []
    },
    {
     "cell_type": "markdown",
     "metadata": {},
     "source": [
      "### append\n",
      "\n",
      "```py\n",
      "df = pd.DataFrame(np.random.randn(8, 4), columns=['A','B','C','D'])\n",
      "df.append(df.iloc[3], ignore_index=True)\n",
      "```"
     ]
    },
    {
     "cell_type": "code",
     "collapsed": false,
     "input": [
      "df = pd.DataFrame(np.random.randn(8, 4), columns=['A','B','C','D'])\n",
      "df.append(df.iloc[3], ignore_index=True)"
     ],
     "language": "python",
     "metadata": {},
     "outputs": []
    },
    {
     "cell_type": "markdown",
     "metadata": {},
     "source": [
      "## Grouping"
     ]
    },
    {
     "cell_type": "code",
     "collapsed": false,
     "input": [
      "df = pd.DataFrame({'A' : ['foo', 'bar', 'foo', 'bar',\n",
      "                         'foo', 'bar', 'foo', 'foo'],\n",
      "                   'B' : ['one', 'one', 'two', 'three',\n",
      "                         'two', 'two', 'one', 'three'],\n",
      "                   'C' : np.random.randn(8),\n",
      "                   'D' : np.random.randn(8)})\n",
      "df.groupby('A').sum()"
     ],
     "language": "python",
     "metadata": {},
     "outputs": []
    },
    {
     "cell_type": "code",
     "collapsed": false,
     "input": [
      "df.groupby(['A', 'B']).sum()"
     ],
     "language": "python",
     "metadata": {},
     "outputs": []
    },
    {
     "cell_type": "markdown",
     "metadata": {},
     "source": [
      "## Reshaping\n",
      "### Stack"
     ]
    },
    {
     "cell_type": "code",
     "collapsed": false,
     "input": [
      "df2 = df.groupby(['A', 'B']).sum()\n",
      "stacked = df2.stack()\n",
      "log.info('stacke')\n",
      "display_pretty(stacked)\n",
      "log.info('unstack')\n",
      "display_pretty(stacked.unstack())\n",
      "log.info('unstack 1')\n",
      "display_pretty(stacked.unstack(1))\n",
      "log.info('unstack 0')\n",
      "display_pretty(stacked.unstack(0))"
     ],
     "language": "python",
     "metadata": {},
     "outputs": []
    },
    {
     "cell_type": "markdown",
     "metadata": {},
     "source": [
      "### Pivot tables"
     ]
    },
    {
     "cell_type": "code",
     "collapsed": false,
     "input": [
      "df = pd.DataFrame({'A' : ['one', 'one', 'two', 'three'] * 3,\n",
      "                   'B' : ['A', 'B', 'C'] * 4,\n",
      "                   'C' : ['foo', 'foo', 'foo', 'bar', 'bar', 'bar'] * 2,\n",
      "                   'D' : np.random.randn(12),\n",
      "                   'E' : np.random.randn(12)})\n",
      "pd.pivot_table(df, values='D', index=['A', 'B'], columns=['C'])"
     ],
     "language": "python",
     "metadata": {},
     "outputs": []
    },
    {
     "cell_type": "markdown",
     "metadata": {},
     "source": [
      "## Time Series"
     ]
    },
    {
     "cell_type": "code",
     "collapsed": false,
     "input": [
      "rng = pd.date_range('2014/1/1', periods=100, freq='S')\n",
      "ts = pd.Series(np.random.randint(0, 500, len(rng)), index=rng)\n",
      "ts.resample('5Min', how='sum')\n",
      "ts.to_period('M')"
     ],
     "language": "python",
     "metadata": {},
     "outputs": []
    },
    {
     "cell_type": "markdown",
     "metadata": {},
     "source": [
      "## Categoricals\n",
      "## Plotting"
     ]
    },
    {
     "cell_type": "code",
     "collapsed": false,
     "input": [
      "ts = pd.Series(np.random.randn(1000), index=pd.date_range('2014/1/1', periods=1000))\n",
      "ts.cumsum().plot()"
     ],
     "language": "python",
     "metadata": {},
     "outputs": []
    },
    {
     "cell_type": "code",
     "collapsed": false,
     "input": [
      "df = pd.DataFrame(np.random.randn(1000, 4), index=ts.index, columns=['A', 'B', 'C', 'D'])\n",
      "df = df.cumsum()\n",
      "plt.figure(); df.plot(); plt.legend(loc='best')"
     ],
     "language": "python",
     "metadata": {},
     "outputs": []
    },
    {
     "cell_type": "markdown",
     "metadata": {},
     "source": [
      "## Getting Data In/Out\n",
      "### CSV\n",
      "\n",
      "```py\n",
      "df.to_csv\n",
      "pd.read_csv\n",
      "```\n",
      "\n",
      "### HDF5\n",
      "### Excel\n",
      "\n",
      "```py\n",
      "df.to_excel('foo.xlsx', sheet_name='Sheet1')\n",
      "pd.read_excel('foo.xlsx', 'Sheet1', index_col=None, na_values=['NA'])\n",
      "```"
     ]
    }
   ],
   "metadata": {}
  }
 ]
}