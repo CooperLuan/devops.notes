{
 "metadata": {
  "name": "",
  "signature": "sha256:71fdce9038998a5ded235bd35e7e84f3ac970f4946fdbbd6ef51cb43704d9db8"
 },
 "nbformat": 3,
 "nbformat_minor": 0,
 "worksheets": [
  {
   "cells": [
    {
     "cell_type": "code",
     "collapsed": false,
     "input": [
      "%run setup_env.py\n",
      "%matplotlib inline\n",
      "randn = np.random.randn\n",
      "from string import ascii_letters\n",
      "letters = list(ascii_letters)"
     ],
     "language": "python",
     "metadata": {},
     "outputs": [],
     "prompt_number": 24
    },
    {
     "cell_type": "markdown",
     "metadata": {},
     "source": [
      "# Intro to Data Structures\n",
      "## Series\n",
      "\n",
      "### create from ndarray\n",
      "\n",
      "```python\n",
      "pd.Series(randn(5), index=list(letters[:5]))\n",
      "```\n",
      "\n",
      "### create from dict\n",
      "\n",
      "```python\n",
      "d = dict((k, i ** i) for i, k in enumerate(letters[:5]))\n",
      "pd.Series(d, index=letters[:6])\n",
      "```\n",
      "\n",
      "## DataFrame\n",
      "\n",
      "### create from dict of Series or dicts\n",
      "\n",
      "```python\n",
      "d = {'one' : pd.Series([1., 2., 3.], index=['a', 'b', 'c']),\n",
      "     'two' : pd.Series([1., 2., 3., 4.], index=['a', 'b', 'c', 'd'])}\n",
      "pd.DataFrame(d, index=['d', 'b', 'a', 'c', 'e'], columns=['one', 'two', 'three'])\n",
      "```\n",
      "\n",
      "### from structured or record array\n",
      "\n",
      "\n",
      "```python\n",
      "data = np.zeros((2,),dtype=[('A', 'i4'),('B', 'f4'),('C', 'a10')])\n",
      "data[:] = [(1, 2, 'Hello'), (2, 3, 'World')]\n",
      "pd.DataFrame(data, index=['00', '01'], columns=['A', 'B', 'C', 'D'])\n",
      "```\n",
      "\n",
      "### from a list of dicts\n",
      "\n",
      "```python\n",
      "data = [{'a': 1, 'b': 2}, {'a': 5, 'b': 10, 'c': 20}]\n",
      "pd.DataFrame(data)\n",
      "```\n",
      "\n",
      "### from a list of tuples\n",
      "\n",
      "### from a Series\n",
      "\n",
      "### alternate constructors\n",
      "\n",
      "```python\n",
      "pd.DataFrame.from_records()\n",
      "pd.DataFrame.from_items([('A', [1,2,3]), ('B', [4, 5, 6])])\n",
      "pd.DataFrame.from_items([('A', [1,2,3]), ('B', [4, 5, 6])], orient='index', columns=letters[:3])\n",
      "```\n",
      "\n",
      "### [Column selection addition deletion](http://pandas.pydata.org/pandas-docs/stable/dsintro.html#column-selection-addition-deletion)\n",
      "\n",
      "### Indexing/Selection\n",
      "\n",
      "| Operation | Syntax |  Result |\n",
      "|-----------|--------|---------|\n",
      "|Select column |  df[col] | Series |\n",
      "|Select row by label | df.loc[label]   | Series |\n",
      "|Select row by integer location |  df.iloc[loc]    | Series |\n",
      "|Slice rows  | df[5:10]    | DataFrame |\n",
      "|Select rows by boolean vector |   df[bool_vec]    | DataFrame |\n",
      "\n",
      "### [Data alignment and arithmetic](http://pandas.pydata.org/pandas-docs/stable/dsintro.html#data-alignment-and-arithmetic)\n",
      "\n",
      "### Transposing\n",
      "\n",
      "## Panel"
     ]
    },
    {
     "cell_type": "code",
     "collapsed": false,
     "input": [
      "pd.DataFrame.from_items([('A', [1,2,3]), ('B', [4, 5, 6])], orient='index', columns=letters[:3])"
     ],
     "language": "python",
     "metadata": {},
     "outputs": [
      {
       "html": [
        "<div style=\"max-height:1000px;max-width:1500px;overflow:auto;\">\n",
        "<table border=\"1\" class=\"dataframe\">\n",
        "  <thead>\n",
        "    <tr style=\"text-align: right;\">\n",
        "      <th></th>\n",
        "      <th>a</th>\n",
        "      <th>b</th>\n",
        "      <th>c</th>\n",
        "    </tr>\n",
        "  </thead>\n",
        "  <tbody>\n",
        "    <tr>\n",
        "      <th>A</th>\n",
        "      <td> 1</td>\n",
        "      <td> 2</td>\n",
        "      <td> 3</td>\n",
        "    </tr>\n",
        "    <tr>\n",
        "      <th>B</th>\n",
        "      <td> 4</td>\n",
        "      <td> 5</td>\n",
        "      <td> 6</td>\n",
        "    </tr>\n",
        "  </tbody>\n",
        "</table>\n",
        "</div>"
       ],
       "metadata": {},
       "output_type": "pyout",
       "prompt_number": 29,
       "text": [
        "   a  b  c\n",
        "A  1  2  3\n",
        "B  4  5  6"
       ]
      }
     ],
     "prompt_number": 29
    }
   ],
   "metadata": {}
  }
 ]
}