{
 "metadata": {
  "name": "",
  "signature": "sha256:79dd1aa23f085b0b7a55437c2585f763abeedcb8a4c6cf5f9e265d1ecb6213ec"
 },
 "nbformat": 3,
 "nbformat_minor": 0,
 "worksheets": [
  {
   "cells": [
    {
     "cell_type": "markdown",
     "metadata": {},
     "source": [
      "[Caveats-and-Gotchas](http://pandas.pydata.org/pandas-docs/stable/gotchas.html)\n",
      "[Pandas Ecosystem](http://pandas.pydata.org/pandas-docs/stable/ecosystem.html)"
     ]
    }
   ],
   "metadata": {}
  }
 ]
}