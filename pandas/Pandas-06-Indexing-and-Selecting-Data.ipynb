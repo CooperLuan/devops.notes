{
 "metadata": {
  "name": "",
  "signature": "sha256:661d2304f6c3588bdf64f2a84a522ff7d6467a624b3e8f2b7ef1b3f22e8d7b59"
 },
 "nbformat": 3,
 "nbformat_minor": 0,
 "worksheets": [
  {
   "cells": [
    {
     "cell_type": "code",
     "collapsed": false,
     "input": [
      "%run setup_env.py"
     ],
     "language": "python",
     "metadata": {},
     "outputs": []
    },
    {
     "cell_type": "markdown",
     "metadata": {},
     "source": [
      "# Indexing and Selecting Data"
     ]
    }
   ],
   "metadata": {}
  }
 ]
}