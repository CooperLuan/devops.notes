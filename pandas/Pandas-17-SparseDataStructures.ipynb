{
 "metadata": {
  "name": "",
  "signature": "sha256:0d629d75e891ae18b89bca90ab08884023a28aed46ee5147a9219129b08ded05"
 },
 "nbformat": 3,
 "nbformat_minor": 0,
 "worksheets": [
  {
   "cells": [
    {
     "cell_type": "markdown",
     "metadata": {},
     "source": [
      "# [Sparse data structures](http://pandas.pydata.org/pandas-docs/stable/sparse.html)"
     ]
    },
    {
     "cell_type": "markdown",
     "metadata": {},
     "source": [
      "there is nothing to tell"
     ]
    }
   ],
   "metadata": {}
  }
 ]
}