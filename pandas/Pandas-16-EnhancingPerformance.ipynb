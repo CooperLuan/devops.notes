{
 "metadata": {
  "name": "",
  "signature": "sha256:44898767454d4584123bc8e06a5ae7f1f1046752cacf7e9425d51f5a89c7a50d"
 },
 "nbformat": 3,
 "nbformat_minor": 0,
 "worksheets": [
  {
   "cells": [
    {
     "cell_type": "markdown",
     "metadata": {},
     "source": [
      "# Enhancing Performance\n",
      "## Cython"
     ]
    },
    {
     "cell_type": "code",
     "collapsed": false,
     "input": [
      "import pandas as pd\n",
      "import numpy as np\n",
      "df = pd.DataFrame({\n",
      "    'A': np.random.randn(1000),\n",
      "    'B': np.random.randn(1000),\n",
      "    'N': np.random.randint(100, 1000, (1000)),\n",
      "    'x': 'x',\n",
      "})\n",
      "df.head(10)"
     ],
     "language": "python",
     "metadata": {},
     "outputs": [
      {
       "html": [
        "<div style=\"max-height:1000px;max-width:1500px;overflow:auto;\">\n",
        "<table border=\"1\" class=\"dataframe\">\n",
        "  <thead>\n",
        "    <tr style=\"text-align: right;\">\n",
        "      <th></th>\n",
        "      <th>A</th>\n",
        "      <th>B</th>\n",
        "      <th>N</th>\n",
        "      <th>x</th>\n",
        "    </tr>\n",
        "  </thead>\n",
        "  <tbody>\n",
        "    <tr>\n",
        "      <th>0</th>\n",
        "      <td>-0.035768</td>\n",
        "      <td>-0.431743</td>\n",
        "      <td> 963</td>\n",
        "      <td> x</td>\n",
        "    </tr>\n",
        "    <tr>\n",
        "      <th>1</th>\n",
        "      <td>-0.183315</td>\n",
        "      <td> 0.808508</td>\n",
        "      <td> 708</td>\n",
        "      <td> x</td>\n",
        "    </tr>\n",
        "    <tr>\n",
        "      <th>2</th>\n",
        "      <td>-2.081749</td>\n",
        "      <td> 2.057155</td>\n",
        "      <td> 599</td>\n",
        "      <td> x</td>\n",
        "    </tr>\n",
        "    <tr>\n",
        "      <th>3</th>\n",
        "      <td> 1.922643</td>\n",
        "      <td>-1.141162</td>\n",
        "      <td> 203</td>\n",
        "      <td> x</td>\n",
        "    </tr>\n",
        "    <tr>\n",
        "      <th>4</th>\n",
        "      <td>-1.818441</td>\n",
        "      <td> 1.198319</td>\n",
        "      <td> 536</td>\n",
        "      <td> x</td>\n",
        "    </tr>\n",
        "    <tr>\n",
        "      <th>5</th>\n",
        "      <td>-0.333826</td>\n",
        "      <td>-1.946877</td>\n",
        "      <td> 610</td>\n",
        "      <td> x</td>\n",
        "    </tr>\n",
        "    <tr>\n",
        "      <th>6</th>\n",
        "      <td> 1.458674</td>\n",
        "      <td>-0.520211</td>\n",
        "      <td> 860</td>\n",
        "      <td> x</td>\n",
        "    </tr>\n",
        "    <tr>\n",
        "      <th>7</th>\n",
        "      <td> 0.440761</td>\n",
        "      <td> 0.122035</td>\n",
        "      <td> 866</td>\n",
        "      <td> x</td>\n",
        "    </tr>\n",
        "    <tr>\n",
        "      <th>8</th>\n",
        "      <td>-1.035197</td>\n",
        "      <td>-0.423205</td>\n",
        "      <td> 257</td>\n",
        "      <td> x</td>\n",
        "    </tr>\n",
        "    <tr>\n",
        "      <th>9</th>\n",
        "      <td>-1.140870</td>\n",
        "      <td> 3.266001</td>\n",
        "      <td> 151</td>\n",
        "      <td> x</td>\n",
        "    </tr>\n",
        "  </tbody>\n",
        "</table>\n",
        "</div>"
       ],
       "metadata": {},
       "output_type": "pyout",
       "prompt_number": 1,
       "text": [
        "          A         B    N  x\n",
        "0 -0.035768 -0.431743  963  x\n",
        "1 -0.183315  0.808508  708  x\n",
        "2 -2.081749  2.057155  599  x\n",
        "3  1.922643 -1.141162  203  x\n",
        "4 -1.818441  1.198319  536  x\n",
        "5 -0.333826 -1.946877  610  x\n",
        "6  1.458674 -0.520211  860  x\n",
        "7  0.440761  0.122035  866  x\n",
        "8 -1.035197 -0.423205  257  x\n",
        "9 -1.140870  3.266001  151  x"
       ]
      }
     ],
     "prompt_number": 1
    },
    {
     "cell_type": "code",
     "collapsed": false,
     "input": [
      "def f(x):\n",
      "    return x * (x - 1)\n",
      "def intergate_f(x, y, N):\n",
      "    s = 0\n",
      "    dx = (y - x) / N\n",
      "    for i in range(N):\n",
      "        s += f(x + i * dx)\n",
      "    return s * dx\n",
      "%timeit df.apply(lambda x: intergate_f(x['A'], x['B'], x['N']), axis=1)"
     ],
     "language": "python",
     "metadata": {},
     "outputs": [
      {
       "output_type": "stream",
       "stream": "stdout",
       "text": [
        "10 loops, best of 3: 159 ms per loop\n"
       ]
      }
     ],
     "prompt_number": 2
    },
    {
     "cell_type": "code",
     "collapsed": false,
     "input": [
      "%load_ext cythonmagic"
     ],
     "language": "python",
     "metadata": {},
     "outputs": [],
     "prompt_number": 3
    },
    {
     "cell_type": "code",
     "collapsed": false,
     "input": [
      "%%cython\n",
      "def f_plain(x):\n",
      "    return x * (x - 1)\n",
      "def intergate_f_plain(x, y, N):\n",
      "    s = 0\n",
      "    dx = (y - x) / N\n",
      "    for i in range(N):\n",
      "        s += f_plain(x + i * dx)\n",
      "    return s * dx"
     ],
     "language": "python",
     "metadata": {},
     "outputs": [],
     "prompt_number": 4
    },
    {
     "cell_type": "code",
     "collapsed": false,
     "input": [
      "%timeit df.apply(lambda x: intergate_f_plain(x['A'], x['B'], x['N']), axis=1)"
     ],
     "language": "python",
     "metadata": {},
     "outputs": [
      {
       "output_type": "stream",
       "stream": "stdout",
       "text": [
        "10 loops, best of 3: 134 ms per loop\n"
       ]
      }
     ],
     "prompt_number": 5
    },
    {
     "cell_type": "markdown",
     "metadata": {},
     "source": [
      "add type"
     ]
    },
    {
     "cell_type": "code",
     "collapsed": false,
     "input": [
      "%%cython\n",
      "cdef double f_typed(double x) except? -2:\n",
      "    return x * (x - 1)\n",
      "cpdef double intergate_f_typed(double x, double y, int N):\n",
      "    cdef int i\n",
      "    cdef double s, dx\n",
      "    s = 0\n",
      "    dx = (y - x) / N\n",
      "    for i in range(N):\n",
      "        s += f_typed(x + i * dx)\n",
      "    return s * dx"
     ],
     "language": "python",
     "metadata": {},
     "outputs": [],
     "prompt_number": 6
    },
    {
     "cell_type": "code",
     "collapsed": false,
     "input": [
      "%timeit df.apply(lambda x: intergate_f_typed(x['A'], x['B'], x['N']), axis=1)"
     ],
     "language": "python",
     "metadata": {},
     "outputs": [
      {
       "output_type": "stream",
       "stream": "stdout",
       "text": [
        "10 loops, best of 3: 25.6 ms per loop\n"
       ]
      }
     ],
     "prompt_number": 7
    },
    {
     "cell_type": "code",
     "collapsed": false,
     "input": [
      "%%cython\n",
      "cimport numpy as np\n",
      "import numpy as np\n",
      "cdef double f_typed(double x) except? -2:\n",
      "    return x * (x - 1)\n",
      "cpdef double intergate_f_typed(double x, double y, int N):\n",
      "    cdef int i\n",
      "    cdef double s, dx\n",
      "    s = 0\n",
      "    dx = (y - x) / N\n",
      "    for i in range(N):\n",
      "        s += f_typed(x + i * dx)\n",
      "    return s * dx\n",
      "cpdef np.ndarray[double] apply_intergate_f(np.ndarray[double] col_a, np.ndarray[double] col_b, np.ndarray col_n):\n",
      "    cdef Py_ssize_t i, n = len(col_n)\n",
      "    cdef np.ndarray[double] res = np.empty(n)\n",
      "    for i in range(len(col_n)):\n",
      "        res[i] = intergate_f_typed(col_a[i], col_b[i], col_n[i])\n",
      "    return res"
     ],
     "language": "python",
     "metadata": {},
     "outputs": [],
     "prompt_number": 8
    },
    {
     "cell_type": "code",
     "collapsed": false,
     "input": [
      "%timeit apply_intergate_f(df['A'].values, df['B'].values, df['N'].values)"
     ],
     "language": "python",
     "metadata": {},
     "outputs": [
      {
       "output_type": "stream",
       "stream": "stdout",
       "text": [
        "100 loops, best of 3: 2.13 ms per loop\n"
       ]
      }
     ],
     "prompt_number": 9
    },
    {
     "cell_type": "code",
     "collapsed": false,
     "input": [
      "%%cython\n",
      "cimport cython\n",
      "cimport numpy as np\n",
      "import numpy as np\n",
      "cdef double f_typed(double x) except? -2:\n",
      "    return x * (x - 1)\n",
      "cpdef double intergate_f_typed(double x, double y, int N):\n",
      "    cdef int i\n",
      "    cdef double s, dx\n",
      "    s = 0\n",
      "    dx = (y - x) / N\n",
      "    for i in range(N):\n",
      "        s += f_typed(x + i * dx)\n",
      "    return s * dx\n",
      "@cython.boundscheck(False)\n",
      "@cython.wraparound(False)\n",
      "cpdef np.ndarray[double] apply_intergate_f_wrap(np.ndarray[double] col_a, np.ndarray[double] col_b, np.ndarray[Py_ssize_t] col_n):\n",
      "    cdef Py_ssize_t i, n = len(col_n)\n",
      "    cdef np.ndarray[double] res = np.empty(n)\n",
      "    for i in range(len(col_n)):\n",
      "        res[i] = intergate_f_typed(col_a[i], col_b[i], col_n[i])\n",
      "    return res\n"
     ],
     "language": "python",
     "metadata": {},
     "outputs": [],
     "prompt_number": 10
    },
    {
     "cell_type": "code",
     "collapsed": false,
     "input": [
      "%timeit apply_intergate_f_wrap(df['A'].values, df['B'].values, df['N'].values)"
     ],
     "language": "python",
     "metadata": {},
     "outputs": [
      {
       "output_type": "stream",
       "stream": "stdout",
       "text": [
        "100 loops, best of 3: 2.08 ms per loop\n"
       ]
      }
     ],
     "prompt_number": 11
    },
    {
     "cell_type": "markdown",
     "metadata": {},
     "source": [
      "## [Expression Evaluation via eval()](http://pandas.pydata.org/pandas-docs/stable/enhancingperf.html#expression-evaluation-via-eval-experimental)"
     ]
    },
    {
     "cell_type": "code",
     "collapsed": false,
     "input": [],
     "language": "python",
     "metadata": {},
     "outputs": [],
     "prompt_number": 11
    }
   ],
   "metadata": {}
  }
 ]
}