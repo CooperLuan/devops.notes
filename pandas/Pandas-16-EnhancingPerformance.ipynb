{
 "metadata": {
  "name": "",
  "signature": "sha256:bd0e0725d54ead5c4ff92168f4fb7439722816128f649745188a7752d723fbf0"
 },
 "nbformat": 3,
 "nbformat_minor": 0,
 "worksheets": [
  {
   "cells": [
    {
     "cell_type": "markdown",
     "metadata": {},
     "source": [
      "# Enhancing Performance\n",
      "## Cython"
     ]
    },
    {
     "cell_type": "code",
     "collapsed": false,
     "input": [
      "import pandas as pd\n",
      "import numpy as np\n",
      "df = pd.DataFrame({\n",
      "    'A': np.random.randn(1000),\n",
      "    'B': np.random.randn(1000),\n",
      "    'N': np.random.randint(100, 1000, (1000)),\n",
      "    'x': 'x',\n",
      "})\n",
      "df.head(10)"
     ],
     "language": "python",
     "metadata": {},
     "outputs": [
      {
       "html": [
        "<div style=\"max-height:1000px;max-width:1500px;overflow:auto;\">\n",
        "<table border=\"1\" class=\"dataframe\">\n",
        "  <thead>\n",
        "    <tr style=\"text-align: right;\">\n",
        "      <th></th>\n",
        "      <th>A</th>\n",
        "      <th>B</th>\n",
        "      <th>N</th>\n",
        "      <th>x</th>\n",
        "    </tr>\n",
        "  </thead>\n",
        "  <tbody>\n",
        "    <tr>\n",
        "      <th>0</th>\n",
        "      <td>-0.278532</td>\n",
        "      <td> 0.279866</td>\n",
        "      <td> 220</td>\n",
        "      <td> x</td>\n",
        "    </tr>\n",
        "    <tr>\n",
        "      <th>1</th>\n",
        "      <td>-1.295786</td>\n",
        "      <td>-0.045760</td>\n",
        "      <td> 867</td>\n",
        "      <td> x</td>\n",
        "    </tr>\n",
        "    <tr>\n",
        "      <th>2</th>\n",
        "      <td>-1.741329</td>\n",
        "      <td> 1.013186</td>\n",
        "      <td> 800</td>\n",
        "      <td> x</td>\n",
        "    </tr>\n",
        "    <tr>\n",
        "      <th>3</th>\n",
        "      <td>-0.399503</td>\n",
        "      <td> 0.016128</td>\n",
        "      <td> 629</td>\n",
        "      <td> x</td>\n",
        "    </tr>\n",
        "    <tr>\n",
        "      <th>4</th>\n",
        "      <td>-0.522196</td>\n",
        "      <td> 1.634603</td>\n",
        "      <td> 230</td>\n",
        "      <td> x</td>\n",
        "    </tr>\n",
        "    <tr>\n",
        "      <th>5</th>\n",
        "      <td> 0.624148</td>\n",
        "      <td> 1.803405</td>\n",
        "      <td> 814</td>\n",
        "      <td> x</td>\n",
        "    </tr>\n",
        "    <tr>\n",
        "      <th>6</th>\n",
        "      <td> 0.041982</td>\n",
        "      <td> 1.527557</td>\n",
        "      <td> 190</td>\n",
        "      <td> x</td>\n",
        "    </tr>\n",
        "    <tr>\n",
        "      <th>7</th>\n",
        "      <td>-1.269780</td>\n",
        "      <td>-0.081592</td>\n",
        "      <td> 175</td>\n",
        "      <td> x</td>\n",
        "    </tr>\n",
        "    <tr>\n",
        "      <th>8</th>\n",
        "      <td>-0.229136</td>\n",
        "      <td> 0.275056</td>\n",
        "      <td> 378</td>\n",
        "      <td> x</td>\n",
        "    </tr>\n",
        "    <tr>\n",
        "      <th>9</th>\n",
        "      <td> 0.540911</td>\n",
        "      <td>-0.032524</td>\n",
        "      <td> 779</td>\n",
        "      <td> x</td>\n",
        "    </tr>\n",
        "  </tbody>\n",
        "</table>\n",
        "</div>"
       ],
       "metadata": {},
       "output_type": "pyout",
       "prompt_number": 1,
       "text": [
        "          A         B    N  x\n",
        "0 -0.278532  0.279866  220  x\n",
        "1 -1.295786 -0.045760  867  x\n",
        "2 -1.741329  1.013186  800  x\n",
        "3 -0.399503  0.016128  629  x\n",
        "4 -0.522196  1.634603  230  x\n",
        "5  0.624148  1.803405  814  x\n",
        "6  0.041982  1.527557  190  x\n",
        "7 -1.269780 -0.081592  175  x\n",
        "8 -0.229136  0.275056  378  x\n",
        "9  0.540911 -0.032524  779  x"
       ]
      }
     ],
     "prompt_number": 1
    },
    {
     "cell_type": "code",
     "collapsed": false,
     "input": [
      "# python \u539f\u751f\u51fd\u6570\n",
      "def f(x):\n",
      "    return x * (x - 1)\n",
      "def intergate_f(x, y, N):\n",
      "    s = 0\n",
      "    dx = (y - x) / N\n",
      "    for i in range(N):\n",
      "        s += f(x + i * dx)\n",
      "    return s * dx\n",
      "%timeit df.apply(lambda x: intergate_f(x['A'], x['B'], x['N']), axis=1)"
     ],
     "language": "python",
     "metadata": {},
     "outputs": [
      {
       "output_type": "stream",
       "stream": "stdout",
       "text": [
        "10 loops, best of 3: 158 ms per loop\n"
       ]
      }
     ],
     "prompt_number": 2
    },
    {
     "cell_type": "code",
     "collapsed": false,
     "input": [
      "# \u52a0\u8f7d IPython Cython \u8bed\u6cd5\u6269\u5c55\n",
      "%load_ext cythonmagic"
     ],
     "language": "python",
     "metadata": {},
     "outputs": [],
     "prompt_number": 3
    },
    {
     "cell_type": "code",
     "collapsed": false,
     "input": [
      "%%cython\n",
      "# \u7528 cython \u7f16\u8bd1 python \u539f\u751f\u51fd\u6570\n",
      "def f_plain(x):\n",
      "    return x * (x - 1)\n",
      "def intergate_f_plain(x, y, N):\n",
      "    s = 0\n",
      "    dx = (y - x) / N\n",
      "    for i in range(N):\n",
      "        s += f_plain(x + i * dx)\n",
      "    return s * dx"
     ],
     "language": "python",
     "metadata": {},
     "outputs": [],
     "prompt_number": 4
    },
    {
     "cell_type": "code",
     "collapsed": false,
     "input": [
      "%timeit df.apply(lambda x: intergate_f_plain(x['A'], x['B'], x['N']), axis=1)\n",
      "# \u7528 cython \u7f16\u8bd1\u540e\u5feb\u4e86 1/8"
     ],
     "language": "python",
     "metadata": {},
     "outputs": [
      {
       "output_type": "stream",
       "stream": "stdout",
       "text": [
        "10 loops, best of 3: 137 ms per loop\n"
       ]
      }
     ],
     "prompt_number": 5
    },
    {
     "cell_type": "markdown",
     "metadata": {},
     "source": [
      "add type"
     ]
    },
    {
     "cell_type": "code",
     "collapsed": false,
     "input": [
      "%%cython\n",
      "# \u5728 cython \u4e2d\u5b9a\u4e49\u6570\u636e\u7c7b\u578b\n",
      "cdef double f_typed(double x) except? -2:\n",
      "    return x * (x - 1)\n",
      "cpdef double intergate_f_typed(double x, double y, int N):\n",
      "    cdef int i\n",
      "    cdef double s, dx\n",
      "    s = 0\n",
      "    dx = (y - x) / N\n",
      "    for i in range(N):\n",
      "        s += f_typed(x + i * dx)\n",
      "    return s * dx"
     ],
     "language": "python",
     "metadata": {},
     "outputs": [],
     "prompt_number": 6
    },
    {
     "cell_type": "code",
     "collapsed": false,
     "input": [
      "%timeit df.apply(lambda x: intergate_f_typed(x['A'], x['B'], x['N']), axis=1)\n",
      "# \u7528 cython \u6307\u5b9a\u7c7b\u578b\u540e\u6027\u80fd\u5927\u5e45\u63d0\u5347 x5"
     ],
     "language": "python",
     "metadata": {},
     "outputs": [
      {
       "output_type": "stream",
       "stream": "stdout",
       "text": [
        "10 loops, best of 3: 24.6 ms per loop\n"
       ]
      }
     ],
     "prompt_number": 7
    },
    {
     "cell_type": "code",
     "collapsed": false,
     "input": [
      "%%cython\n",
      "# \u7528 cython \u5199 pandas.apply \u64cd\u4f5c\n",
      "cimport numpy as np\n",
      "import numpy as np\n",
      "cdef double f_typed(double x) except? -2:\n",
      "    return x * (x - 1)\n",
      "cpdef double intergate_f_typed(double x, double y, int N):\n",
      "    cdef int i\n",
      "    cdef double s, dx\n",
      "    s = 0\n",
      "    dx = (y - x) / N\n",
      "    for i in range(N):\n",
      "        s += f_typed(x + i * dx)\n",
      "    return s * dx\n",
      "cpdef np.ndarray[double] apply_intergate_f(np.ndarray[double] col_a, np.ndarray[double] col_b, np.ndarray col_n):\n",
      "    cdef Py_ssize_t i, n = len(col_n)\n",
      "    cdef np.ndarray[double] res = np.empty(n)\n",
      "    for i in range(len(col_n)):\n",
      "        res[i] = intergate_f_typed(col_a[i], col_b[i], col_n[i])\n",
      "    return res"
     ],
     "language": "python",
     "metadata": {},
     "outputs": [],
     "prompt_number": 8
    },
    {
     "cell_type": "code",
     "collapsed": false,
     "input": [
      "%timeit apply_intergate_f(df['A'].values, df['B'].values, df['N'].values)\n",
      "# \u7528 cython \u5b9e\u73b0 pandas.apply \u4e4b\u540e\u6027\u80fd x60"
     ],
     "language": "python",
     "metadata": {},
     "outputs": [
      {
       "output_type": "stream",
       "stream": "stdout",
       "text": [
        "100 loops, best of 3: 2.15 ms per loop\n"
       ]
      }
     ],
     "prompt_number": 9
    },
    {
     "cell_type": "code",
     "collapsed": false,
     "input": [
      "%%cython\n",
      "# \u66f4\u6df1\u5165\u7684 cython \u65b9\u6cd5\n",
      "cimport cython\n",
      "cimport numpy as np\n",
      "import numpy as np\n",
      "cdef double f_typed(double x) except? -2:\n",
      "    return x * (x - 1)\n",
      "cpdef double intergate_f_typed(double x, double y, int N):\n",
      "    cdef int i\n",
      "    cdef double s, dx\n",
      "    s = 0\n",
      "    dx = (y - x) / N\n",
      "    for i in range(N):\n",
      "        s += f_typed(x + i * dx)\n",
      "    return s * dx\n",
      "@cython.boundscheck(False)\n",
      "@cython.wraparound(False)\n",
      "cpdef np.ndarray[double] apply_intergate_f_wrap(np.ndarray[double] col_a, np.ndarray[double] col_b, np.ndarray[Py_ssize_t] col_n):\n",
      "    cdef Py_ssize_t i, n = len(col_n)\n",
      "    cdef np.ndarray[double] res = np.empty(n)\n",
      "    for i in range(len(col_n)):\n",
      "        res[i] = intergate_f_typed(col_a[i], col_b[i], col_n[i])\n",
      "    return res\n"
     ],
     "language": "python",
     "metadata": {},
     "outputs": [],
     "prompt_number": 10
    },
    {
     "cell_type": "code",
     "collapsed": false,
     "input": [
      "%timeit apply_intergate_f_wrap(df['A'].values, df['B'].values, df['N'].values)\n",
      "# \u6ca1\u6709\u592a\u5927\u7684\u6027\u80fd\u63d0\u5347"
     ],
     "language": "python",
     "metadata": {},
     "outputs": [
      {
       "output_type": "stream",
       "stream": "stdout",
       "text": [
        "100 loops, best of 3: 2.1 ms per loop\n"
       ]
      }
     ],
     "prompt_number": 11
    },
    {
     "cell_type": "markdown",
     "metadata": {},
     "source": [
      "## [Expression Evaluation via eval()](http://pandas.pydata.org/pandas-docs/stable/enhancingperf.html#expression-evaluation-via-eval-experimental)"
     ]
    },
    {
     "cell_type": "code",
     "collapsed": false,
     "input": [],
     "language": "python",
     "metadata": {},
     "outputs": [],
     "prompt_number": 11
    }
   ],
   "metadata": {}
  }
 ]
}