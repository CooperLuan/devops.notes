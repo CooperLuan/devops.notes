{
 "metadata": {
  "name": "",
  "signature": "sha256:4614d5561ebc271c2e7ff1f5d029fbe00f03a25ce9f1c991334227aadc7c7631"
 },
 "nbformat": 3,
 "nbformat_minor": 0,
 "worksheets": [
  {
   "cells": [
    {
     "cell_type": "markdown",
     "metadata": {},
     "source": [
      "# [IO Tools](http://pandas.pydata.org/pandas-docs/stable/io.html#io-tools-text-csv-hdf5)"
     ]
    }
   ],
   "metadata": {}
  }
 ]
}