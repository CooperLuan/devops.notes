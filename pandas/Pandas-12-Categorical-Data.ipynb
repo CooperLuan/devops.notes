{
 "metadata": {
  "name": "",
  "signature": "sha256:fd61ef2108ae22a075ab863cabd46e0310e61828d496aa3b0a66b967b17768c7"
 },
 "nbformat": 3,
 "nbformat_minor": 0,
 "worksheets": [
  {
   "cells": [
    {
     "cell_type": "markdown",
     "metadata": {},
     "source": [
      "# [Categorical Data](http://pandas.pydata.org/pandas-docs/stable/categorical.html)"
     ]
    }
   ],
   "metadata": {}
  }
 ]
}