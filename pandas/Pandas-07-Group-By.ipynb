{
 "metadata": {
  "name": "",
  "signature": "sha256:8624a091c9e3d3212b680aa29c7c5193f7386e6a21cbd137c327ab74eac69b58"
 },
 "nbformat": 3,
 "nbformat_minor": 0,
 "worksheets": [
  {
   "cells": [
    {
     "cell_type": "code",
     "collapsed": false,
     "input": [
      "%run setup_env.py\n",
      "%matplotlib inline"
     ],
     "language": "python",
     "metadata": {},
     "outputs": []
    },
    {
     "cell_type": "markdown",
     "metadata": {},
     "source": [
      "# Group By split-apply-combine\n",
      "\n",
      "- Splitting data into groups\n",
      "- Applying a function to each group independently\n",
      "- Combining the results into a data structure\n",
      "\n",
      "## Splitting\n",
      "\n",
      "- a python function, can be called on each of axis labels\n",
      "- a list or NumPy array of the same length as the selected asix\n",
      "- a dict or Series, providing a `label - group name` mapping\n",
      "- for DataFrame objects, give selected columns or a column name\n",
      "\n",
      "## GroupBy object attributes\n",
      "\n",
      "- groups\n",
      "- sum()\n",
      "- mean()\n",
      "\n",
      "## GroupBy with MultiIndex\n",
      "\n",
      "- s.groupby(level=0)\n",
      "- s.groupby(level=1)\n",
      "- s.groupby(level=[0, 1]).sum()\n",
      "- s.sum(level=0)\n",
      "- s.sum(level=1)\n",
      "\n",
      "## Iteraing through groups\n",
      "\n",
      "```python\n",
      "for name, group in grouped:\n",
      "    print(name)\n",
      "    print(group)\n",
      "```\n",
      "\n",
      "## Aggregation\n",
      "\n",
      "- DataFrameGroupBy.aggregate(np.sum)\n",
      "- DataFrameGroupBy.sum()\n",
      "\n",
      "### Applying multiple functions at once\n",
      "\n",
      "- DataFrameGroupBy.agg([np.sum, np.mean])\n",
      "- DataFrameGroupBy.agg({'total': np.sum, 'avg': np.mean})\n",
      "\n",
      "### Applying different functions to columns\n",
      "\n",
      "```python\n",
      "grouped = df.groupby('PK')\n",
      "grouped.agg({\n",
      "    'A': np.sum,\n",
      "    'B': 'first',\n",
      "    'C': 'last',\n",
      "    'D': 'mean',\n",
      "})\n",
      "```"
     ]
    },
    {
     "cell_type": "code",
     "collapsed": false,
     "input": [
      "df = pd.DataFrame(np.random.randn(10, 5), columns=['A', 'B', 'C', 'D', 'E'])\n",
      "df['A'] = [np.random.choice(['T', 'A', 'N']) for _ in range(10)]\n",
      "df['B'] = [np.random.choice(['T', 'A', 'N']) for _ in range(10)]\n",
      "display_html(df)\n",
      "df.groupby('A').agg({\n",
      "    'B': 'first',\n",
      "    'C': np.sum,\n",
      "    'D': 'last',\n",
      "})"
     ],
     "language": "python",
     "metadata": {},
     "outputs": []
    },
    {
     "cell_type": "markdown",
     "metadata": {},
     "source": [
      "## Transformation"
     ]
    },
    {
     "cell_type": "code",
     "collapsed": false,
     "input": [
      "df = pd.DataFrame(np.random.randn(10, 5), columns=['A', 'B', 'C', 'D', 'E'])\n",
      "df['A'] = [np.random.choice(['T', 'A', 'N']) for _ in range(10)]\n",
      "df['B'] = [np.random.choice(['T', 'A', 'N']) for _ in range(10)]\n",
      "display_html(df)\n",
      "zscore = lambda x: (x - x.mean()) / x.std()\n",
      "grouped = df.groupby('A')\n",
      "grouped.transform(zscore)"
     ],
     "language": "python",
     "metadata": {},
     "outputs": []
    },
    {
     "cell_type": "code",
     "collapsed": false,
     "input": [
      "log.info('compare transformed with original data')\n",
      "ts = pd.Series(np.random.normal(0.5, 2, 1100), pd.date_range('2000/1/1', periods=1100))\n",
      "transformed = ts.groupby(lambda x: x.year).transform(lambda x: (x - x.mean()) / x.std())\n",
      "pd.DataFrame({'original': ts, 'transformed': transformed}).plot()"
     ],
     "language": "python",
     "metadata": {},
     "outputs": []
    },
    {
     "cell_type": "markdown",
     "metadata": {},
     "source": [
      "## Filtration"
     ]
    },
    {
     "cell_type": "code",
     "collapsed": false,
     "input": [
      "df = pd.DataFrame({'A': np.arange(10), 'B': list('abbbccdddd'), 'C': np.random.randint(0, 10, 10)})\n",
      "df2 = df.groupby('B').filter(lambda x: x['C'].sum() > 10)\n",
      "df3 = df.groupby('B').head(2)\n",
      "display_html(df, df2, df3)"
     ],
     "language": "python",
     "metadata": {},
     "outputs": []
    },
    {
     "cell_type": "markdown",
     "metadata": {},
     "source": [
      "## Flexible apply\n",
      "## Other useful features\n",
      "### Automatic exclusion of nuisance columns\n",
      "### NA group handling\n",
      "### Grouping with ordered factors"
     ]
    },
    {
     "cell_type": "code",
     "collapsed": false,
     "input": [
      "s = pd.Series(np.random.randn(100))\n",
      "s.groupby(pd.qcut(s, [0, .25, .5, .75, 1.])).mean()"
     ],
     "language": "python",
     "metadata": {},
     "outputs": []
    },
    {
     "cell_type": "markdown",
     "metadata": {},
     "source": [
      "### Grouping with a Grouper specification"
     ]
    },
    {
     "cell_type": "code",
     "collapsed": false,
     "input": [
      "from datetime import datetime\n",
      "df = pd.DataFrame({\n",
      "    'Branch' : 'A A A A A A A B'.split(),\n",
      "    'Buyer': 'Carl Mark Carl Carl Joe Joe Joe Carl'.split(),\n",
      "    'Quantity': [1,3,5,1,8,1,9,3],\n",
      "    'Date' : [\n",
      "        datetime(2013,1,1,13,0),\n",
      "        datetime(2013,1,1,13,5),\n",
      "        datetime(2013,10,1,20,0),\n",
      "        datetime(2013,10,2,10,0),\n",
      "        datetime(2013,10,1,20,0),\n",
      "        datetime(2013,10,2,10,0),\n",
      "        datetime(2013,12,2,12,0),\n",
      "        datetime(2013,12,2,14,0),\n",
      "    ]})\n",
      "df2 = df.groupby([pd.Grouper(freq='1M',key='Date'),'Buyer']).sum()\n",
      "display_html(df2)\n",
      "df = df.set_index('Date')\n",
      "df['Date'] = df.index + pd.offsets.MonthBegin(3)\n",
      "df3 = df.groupby([pd.Grouper(freq='2M',key='Date'),'Buyer']).sum()\n",
      "display_html(df3)"
     ],
     "language": "python",
     "metadata": {},
     "outputs": []
    },
    {
     "cell_type": "markdown",
     "metadata": {},
     "source": [
      "### Taking the first row of each group\n",
      "### Taking nth row of each group\n",
      "\n",
      "```python\n",
      "df.groupby('B').nth(1)\n",
      "```\n",
      "\n",
      "### Enumerate group items\n",
      "### Plotting"
     ]
    }
   ],
   "metadata": {}
  }
 ]
}