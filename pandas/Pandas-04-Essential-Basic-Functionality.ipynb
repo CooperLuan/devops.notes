{
 "metadata": {
  "name": "",
  "signature": "sha256:ad07833e634c0fd70db7cf945dcb293b34bf2895dab65817f8bd542e55f9c2ed"
 },
 "nbformat": 3,
 "nbformat_minor": 0,
 "worksheets": [
  {
   "cells": [
    {
     "cell_type": "code",
     "collapsed": false,
     "input": [
      "%run setup_env.py\n",
      "randn = np.random.randn\n",
      "index = pd.date_range('1/1/2000', periods=8)\n",
      "s = pd.Series(randn(5), index=['a', 'b', 'c', 'd', 'e'])\n",
      "df = pd.DataFrame(randn(8, 3), index=index,\n",
      "               columns=['A', 'B', 'C'])\n",
      "wp = pd.Panel(randn(2, 5, 4), items=['Item1', 'Item2'],\n",
      "           major_axis=pd.date_range('1/1/2000', periods=5),\n",
      "           minor_axis=['A', 'B', 'C', 'D'])"
     ],
     "language": "python",
     "metadata": {},
     "outputs": [],
     "prompt_number": 4
    },
    {
     "cell_type": "code",
     "collapsed": false,
     "input": [
      "log.info('Head and Tail')\n",
      "display_pretty(s.head(), s.tail())\n",
      "\n",
      "log.info('Accelerated operations')\n",
      "display_pretty(df * df, df + df, df > df)"
     ],
     "language": "python",
     "metadata": {},
     "outputs": []
    }
   ],
   "metadata": {}
  }
 ]
}