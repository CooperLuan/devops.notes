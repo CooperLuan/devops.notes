{
 "metadata": {
  "name": "",
  "signature": "sha256:5cd9a53b6e55bfdb090f96d1a550b7a33355440183f7ed5e2ae3a4a821722113"
 },
 "nbformat": 3,
 "nbformat_minor": 0,
 "worksheets": [
  {
   "cells": [
    {
     "cell_type": "markdown",
     "metadata": {},
     "source": [
      "# Time Deltas\n",
      "## Parsing"
     ]
    },
    {
     "cell_type": "code",
     "collapsed": false,
     "input": [
      "import pandas as pd\n",
      "import numpy as np"
     ],
     "language": "python",
     "metadata": {},
     "outputs": [],
     "prompt_number": 1
    },
    {
     "cell_type": "code",
     "collapsed": false,
     "input": [
      "pd.Timedelta('-3 days'), pd.Timedelta('13 min'), pd.Timedelta(1, unit='M')"
     ],
     "language": "python",
     "metadata": {},
     "outputs": [
      {
       "metadata": {},
       "output_type": "pyout",
       "prompt_number": 2,
       "text": [
        "(Timedelta('-3 days +00:00:00'),\n",
        " Timedelta('0 days 00:13:00'),\n",
        " Timedelta('30 days 10:29:06'))"
       ]
      }
     ],
     "prompt_number": 2
    },
    {
     "cell_type": "code",
     "collapsed": false,
     "input": [
      "pd.to_timedelta('2 days'), pd.to_timedelta(np.arange(10), unit='M')"
     ],
     "language": "python",
     "metadata": {},
     "outputs": [
      {
       "metadata": {},
       "output_type": "pyout",
       "prompt_number": 3,
       "text": [
        "(Timedelta('2 days 00:00:00'), <class 'pandas.tseries.tdi.TimedeltaIndex'>\n",
        " ['0 days 00:00:00', ..., '273 days 22:21:54']\n",
        " Length: 10, Freq: None)"
       ]
      }
     ],
     "prompt_number": 3
    },
    {
     "cell_type": "markdown",
     "metadata": {},
     "source": [
      "## Operations"
     ]
    },
    {
     "cell_type": "code",
     "collapsed": false,
     "input": [
      "df = pd.DataFrame(dict(A = pd.Series(pd.date_range('2014/1/1/', periods=3)), B = [pd.Timedelta(days=i + 1) for i in range(3)]))\n",
      "df['C'] = df['A'] + df['B']\n",
      "df['D'] = df['C'] - max(df['B'])\n",
      "df['E'] = df['D'] + pd.tseries.offsets.Day(10)\n",
      "df"
     ],
     "language": "python",
     "metadata": {},
     "outputs": [
      {
       "html": [
        "<div style=\"max-height:1000px;max-width:1500px;overflow:auto;\">\n",
        "<table border=\"1\" class=\"dataframe\">\n",
        "  <thead>\n",
        "    <tr style=\"text-align: right;\">\n",
        "      <th></th>\n",
        "      <th>A</th>\n",
        "      <th>B</th>\n",
        "      <th>C</th>\n",
        "      <th>D</th>\n",
        "      <th>E</th>\n",
        "    </tr>\n",
        "  </thead>\n",
        "  <tbody>\n",
        "    <tr>\n",
        "      <th>0</th>\n",
        "      <td>2014-01-01</td>\n",
        "      <td>1 days</td>\n",
        "      <td>2014-01-02</td>\n",
        "      <td>2013-12-30</td>\n",
        "      <td>2014-01-09</td>\n",
        "    </tr>\n",
        "    <tr>\n",
        "      <th>1</th>\n",
        "      <td>2014-01-02</td>\n",
        "      <td>2 days</td>\n",
        "      <td>2014-01-04</td>\n",
        "      <td>2014-01-01</td>\n",
        "      <td>2014-01-11</td>\n",
        "    </tr>\n",
        "    <tr>\n",
        "      <th>2</th>\n",
        "      <td>2014-01-03</td>\n",
        "      <td>3 days</td>\n",
        "      <td>2014-01-06</td>\n",
        "      <td>2014-01-03</td>\n",
        "      <td>2014-01-13</td>\n",
        "    </tr>\n",
        "  </tbody>\n",
        "</table>\n",
        "</div>"
       ],
       "metadata": {},
       "output_type": "pyout",
       "prompt_number": 4,
       "text": [
        "           A      B          C          D          E\n",
        "0 2014-01-01 1 days 2014-01-02 2013-12-30 2014-01-09\n",
        "1 2014-01-02 2 days 2014-01-04 2014-01-01 2014-01-11\n",
        "2 2014-01-03 3 days 2014-01-06 2014-01-03 2014-01-13"
       ]
      }
     ],
     "prompt_number": 4
    },
    {
     "cell_type": "markdown",
     "metadata": {},
     "source": [
      "## Reductions"
     ]
    },
    {
     "cell_type": "code",
     "collapsed": false,
     "input": [
      "df['B'].mean()"
     ],
     "language": "python",
     "metadata": {},
     "outputs": [
      {
       "metadata": {},
       "output_type": "pyout",
       "prompt_number": 5,
       "text": [
        "Timedelta('2 days 00:00:00')"
       ]
      }
     ],
     "prompt_number": 5
    },
    {
     "cell_type": "code",
     "collapsed": false,
     "input": [
      "df['B'].sum()"
     ],
     "language": "python",
     "metadata": {},
     "outputs": [
      {
       "metadata": {},
       "output_type": "pyout",
       "prompt_number": 6,
       "text": [
        "Timedelta('6 days 00:00:00')"
       ]
      }
     ],
     "prompt_number": 6
    },
    {
     "cell_type": "markdown",
     "metadata": {},
     "source": [
      "## Frequency conversion"
     ]
    },
    {
     "cell_type": "code",
     "collapsed": false,
     "input": [
      "s = pd.Series([pd.Timedelta(days=np.random.randint(10)) for i in range(5)])\n",
      "s"
     ],
     "language": "python",
     "metadata": {},
     "outputs": [
      {
       "metadata": {},
       "output_type": "pyout",
       "prompt_number": 7,
       "text": [
        "0   3 days\n",
        "1   7 days\n",
        "2   8 days\n",
        "3   9 days\n",
        "4   7 days\n",
        "dtype: timedelta64[ns]"
       ]
      }
     ],
     "prompt_number": 7
    },
    {
     "cell_type": "code",
     "collapsed": false,
     "input": [
      "s / np.timedelta64(1, 'D')"
     ],
     "language": "python",
     "metadata": {},
     "outputs": [
      {
       "metadata": {},
       "output_type": "pyout",
       "prompt_number": 8,
       "text": [
        "0    3\n",
        "1    7\n",
        "2    8\n",
        "3    9\n",
        "4    7\n",
        "dtype: float64"
       ]
      }
     ],
     "prompt_number": 8
    },
    {
     "cell_type": "code",
     "collapsed": false,
     "input": [
      "s.astype('timedelta64[D]')"
     ],
     "language": "python",
     "metadata": {},
     "outputs": [
      {
       "metadata": {},
       "output_type": "pyout",
       "prompt_number": 9,
       "text": [
        "0    3\n",
        "1    7\n",
        "2    8\n",
        "3    9\n",
        "4    7\n",
        "dtype: float64"
       ]
      }
     ],
     "prompt_number": 9
    },
    {
     "cell_type": "markdown",
     "metadata": {},
     "source": [
      "## Attributes"
     ]
    },
    {
     "cell_type": "code",
     "collapsed": false,
     "input": [
      "s.dt.days"
     ],
     "language": "python",
     "metadata": {},
     "outputs": [
      {
       "metadata": {},
       "output_type": "pyout",
       "prompt_number": 10,
       "text": [
        "0    3\n",
        "1    7\n",
        "2    8\n",
        "3    9\n",
        "4    7\n",
        "dtype: int64"
       ]
      }
     ],
     "prompt_number": 10
    },
    {
     "cell_type": "code",
     "collapsed": false,
     "input": [
      "s.dt.components"
     ],
     "language": "python",
     "metadata": {},
     "outputs": [
      {
       "html": [
        "<div style=\"max-height:1000px;max-width:1500px;overflow:auto;\">\n",
        "<table border=\"1\" class=\"dataframe\">\n",
        "  <thead>\n",
        "    <tr style=\"text-align: right;\">\n",
        "      <th></th>\n",
        "      <th>days</th>\n",
        "      <th>hours</th>\n",
        "      <th>minutes</th>\n",
        "      <th>seconds</th>\n",
        "      <th>milliseconds</th>\n",
        "      <th>microseconds</th>\n",
        "      <th>nanoseconds</th>\n",
        "    </tr>\n",
        "  </thead>\n",
        "  <tbody>\n",
        "    <tr>\n",
        "      <th>0</th>\n",
        "      <td> 3</td>\n",
        "      <td> 0</td>\n",
        "      <td> 0</td>\n",
        "      <td> 0</td>\n",
        "      <td> 0</td>\n",
        "      <td> 0</td>\n",
        "      <td> 0</td>\n",
        "    </tr>\n",
        "    <tr>\n",
        "      <th>1</th>\n",
        "      <td> 7</td>\n",
        "      <td> 0</td>\n",
        "      <td> 0</td>\n",
        "      <td> 0</td>\n",
        "      <td> 0</td>\n",
        "      <td> 0</td>\n",
        "      <td> 0</td>\n",
        "    </tr>\n",
        "    <tr>\n",
        "      <th>2</th>\n",
        "      <td> 8</td>\n",
        "      <td> 0</td>\n",
        "      <td> 0</td>\n",
        "      <td> 0</td>\n",
        "      <td> 0</td>\n",
        "      <td> 0</td>\n",
        "      <td> 0</td>\n",
        "    </tr>\n",
        "    <tr>\n",
        "      <th>3</th>\n",
        "      <td> 9</td>\n",
        "      <td> 0</td>\n",
        "      <td> 0</td>\n",
        "      <td> 0</td>\n",
        "      <td> 0</td>\n",
        "      <td> 0</td>\n",
        "      <td> 0</td>\n",
        "    </tr>\n",
        "    <tr>\n",
        "      <th>4</th>\n",
        "      <td> 7</td>\n",
        "      <td> 0</td>\n",
        "      <td> 0</td>\n",
        "      <td> 0</td>\n",
        "      <td> 0</td>\n",
        "      <td> 0</td>\n",
        "      <td> 0</td>\n",
        "    </tr>\n",
        "  </tbody>\n",
        "</table>\n",
        "</div>"
       ],
       "metadata": {},
       "output_type": "pyout",
       "prompt_number": 11,
       "text": [
        "   days  hours  minutes  seconds  milliseconds  microseconds  nanoseconds\n",
        "0     3      0        0        0             0             0            0\n",
        "1     7      0        0        0             0             0            0\n",
        "2     8      0        0        0             0             0            0\n",
        "3     9      0        0        0             0             0            0\n",
        "4     7      0        0        0             0             0            0"
       ]
      }
     ],
     "prompt_number": 11
    },
    {
     "cell_type": "markdown",
     "metadata": {},
     "source": [
      "## TimedeltaIndex"
     ]
    },
    {
     "cell_type": "code",
     "collapsed": false,
     "input": [
      "pd.TimedeltaIndex(['1 days', '1 days 00:00:03', np.timedelta64(2, 'M')])"
     ],
     "language": "python",
     "metadata": {},
     "outputs": [
      {
       "metadata": {},
       "output_type": "pyout",
       "prompt_number": 12,
       "text": [
        "<class 'pandas.tseries.tdi.TimedeltaIndex'>\n",
        "['1 days 00:00:00', ..., '60 days 20:58:12']\n",
        "Length: 3, Freq: None"
       ]
      }
     ],
     "prompt_number": 12
    },
    {
     "cell_type": "code",
     "collapsed": false,
     "input": [
      "pd.timedelta_range(start='1 hours', freq='5H', periods=10)"
     ],
     "language": "python",
     "metadata": {},
     "outputs": [
      {
       "metadata": {},
       "output_type": "pyout",
       "prompt_number": 13,
       "text": [
        "<class 'pandas.tseries.tdi.TimedeltaIndex'>\n",
        "['0 days 01:00:00', ..., '1 days 22:00:00']\n",
        "Length: 10, Freq: <5 * Hours>"
       ]
      }
     ],
     "prompt_number": 13
    },
    {
     "cell_type": "markdown",
     "metadata": {},
     "source": [
      "### Using TimedeltaIndex"
     ]
    },
    {
     "cell_type": "code",
     "collapsed": false,
     "input": [
      "s = pd.Series(np.arange(100), index=pd.timedelta_range('1 days', periods=100, freq='H'))\n",
      "s['1 days': '2 days']"
     ],
     "language": "python",
     "metadata": {},
     "outputs": [
      {
       "metadata": {},
       "output_type": "pyout",
       "prompt_number": 14,
       "text": [
        "1 days 00:00:00     0\n",
        "1 days 01:00:00     1\n",
        "1 days 02:00:00     2\n",
        "1 days 03:00:00     3\n",
        "1 days 04:00:00     4\n",
        "1 days 05:00:00     5\n",
        "1 days 06:00:00     6\n",
        "1 days 07:00:00     7\n",
        "1 days 08:00:00     8\n",
        "1 days 09:00:00     9\n",
        "1 days 10:00:00    10\n",
        "1 days 11:00:00    11\n",
        "1 days 12:00:00    12\n",
        "1 days 13:00:00    13\n",
        "1 days 14:00:00    14\n",
        "1 days 15:00:00    15\n",
        "1 days 16:00:00    16\n",
        "1 days 17:00:00    17\n",
        "1 days 18:00:00    18\n",
        "1 days 19:00:00    19\n",
        "1 days 20:00:00    20\n",
        "1 days 21:00:00    21\n",
        "1 days 22:00:00    22\n",
        "1 days 23:00:00    23\n",
        "2 days 00:00:00    24\n",
        "2 days 01:00:00    25\n",
        "2 days 02:00:00    26\n",
        "2 days 03:00:00    27\n",
        "2 days 04:00:00    28\n",
        "2 days 05:00:00    29\n",
        "2 days 06:00:00    30\n",
        "2 days 07:00:00    31\n",
        "2 days 08:00:00    32\n",
        "2 days 09:00:00    33\n",
        "2 days 10:00:00    34\n",
        "2 days 11:00:00    35\n",
        "2 days 12:00:00    36\n",
        "2 days 13:00:00    37\n",
        "2 days 14:00:00    38\n",
        "2 days 15:00:00    39\n",
        "2 days 16:00:00    40\n",
        "2 days 17:00:00    41\n",
        "2 days 18:00:00    42\n",
        "2 days 19:00:00    43\n",
        "2 days 20:00:00    44\n",
        "2 days 21:00:00    45\n",
        "2 days 22:00:00    46\n",
        "2 days 23:00:00    47\n",
        "dtype: int64"
       ]
      }
     ],
     "prompt_number": 14
    },
    {
     "cell_type": "code",
     "collapsed": false,
     "input": [
      "s['1 days 23 hours']"
     ],
     "language": "python",
     "metadata": {},
     "outputs": [
      {
       "metadata": {},
       "output_type": "pyout",
       "prompt_number": 15,
       "text": [
        "23"
       ]
      }
     ],
     "prompt_number": 15
    },
    {
     "cell_type": "code",
     "collapsed": false,
     "input": [
      "s[pd.Timedelta('3 days 2 hours')]"
     ],
     "language": "python",
     "metadata": {},
     "outputs": [
      {
       "metadata": {},
       "output_type": "pyout",
       "prompt_number": 16,
       "text": [
        "50"
       ]
      }
     ],
     "prompt_number": 16
    },
    {
     "cell_type": "markdown",
     "metadata": {},
     "source": [
      "### Operations\n",
      "### Conversions\n",
      "## Resampling"
     ]
    },
    {
     "cell_type": "code",
     "collapsed": false,
     "input": [
      "s.resample('D', how='sum')"
     ],
     "language": "python",
     "metadata": {},
     "outputs": [
      {
       "metadata": {},
       "output_type": "pyout",
       "prompt_number": 17,
       "text": [
        "1 days     276\n",
        "2 days     852\n",
        "3 days    1428\n",
        "4 days    2004\n",
        "5 days     390\n",
        "dtype: int64"
       ]
      }
     ],
     "prompt_number": 17
    }
   ],
   "metadata": {}
  }
 ]
}