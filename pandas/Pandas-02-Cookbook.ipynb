{
 "metadata": {
  "name": "",
  "signature": "sha256:e747d28da83670ae403f53f28bcec512193872bc7398244b0592de0dc1b80389"
 },
 "nbformat": 3,
 "nbformat_minor": 0,
 "worksheets": [
  {
   "cells": [
    {
     "cell_type": "code",
     "collapsed": false,
     "input": [
      "%run setup_env.py\n",
      "%matplotlib inline"
     ],
     "language": "python",
     "metadata": {},
     "outputs": []
    },
    {
     "cell_type": "markdown",
     "metadata": {},
     "source": [
      "# Cookbook\n",
      "\n",
      "pandas 0.15\n",
      "\n",
      "## Idioms"
     ]
    },
    {
     "cell_type": "code",
     "collapsed": false,
     "input": [
      "df = pd.DataFrame(np.random.randn(10, 3), columns=['A', 'B', 'C'])\n",
      "df_mask = pd.DataFrame({\n",
      "    'A': [True] * 10,\n",
      "    'B': [False] * 10,\n",
      "    'C': [True, False] * 5\n",
      "})\n",
      "df.where(df_mask, -1000)"
     ],
     "language": "python",
     "metadata": {},
     "outputs": []
    },
    {
     "cell_type": "code",
     "collapsed": false,
     "input": [
      "df['logic'] = np.where(df['A'] > 0, 'ok', 'not ok')\n",
      "df"
     ],
     "language": "python",
     "metadata": {},
     "outputs": []
    },
    {
     "cell_type": "markdown",
     "metadata": {},
     "source": [
      "## Splitting\n",
      "\n",
      "```py\n",
      "df[df['A'] > 0]\n",
      "```\n",
      "\n",
      "## Building Criteria\n",
      "\n",
      "```py\n",
      "df.loc[(df['A'] > 0) | (df['B'] < 0), ['A', 'B']]\n",
      "```"
     ]
    },
    {
     "cell_type": "code",
     "collapsed": false,
     "input": [
      "import functools\n",
      "crit = functools.reduce(lambda x, y: x & y, [df['A'] > 0, df['B'] > 0, df['C'] < 0])\n",
      "df[crit]"
     ],
     "language": "python",
     "metadata": {},
     "outputs": []
    },
    {
     "cell_type": "markdown",
     "metadata": {},
     "source": [
      "## Selection\n",
      "### DataFrames\n",
      "\n",
      "```py\n",
      "df[(df['A'] > 1) & (df.index.isin(range(5)))]\n",
      "```\n",
      "\n",
      "### Panels\n",
      "\n",
      "### New Columns\n",
      "\n",
      "```py\n",
      "\n",
      "```\n",
      "\n",
      "## MultiIndexing\n",
      "\n",
      "### Arithmetic\n",
      "\n",
      "### Slicing\n",
      "\n",
      "### Sorting\n",
      "\n",
      "### Levels\n",
      "\n",
      "### Panelnd\n",
      "\n",
      "## Missing Data\n",
      "\n",
      "## [Grouping](http://pandas.pydata.org/pandas-docs/stable/cookbook.html#grouping)\n",
      "\n",
      "## [Timeseries](http://pandas.pydata.org/pandas-docs/stable/cookbook.html#timeseries)\n",
      "\n",
      "## [Merge](http://pandas.pydata.org/pandas-docs/stable/cookbook.html#merge)\n",
      "\n",
      "## Plotting\n",
      "\n",
      "## Computation\n",
      "\n",
      "## Timedeltas\n",
      "\n",
      "## Aliasing Axis Names\n",
      "\n",
      "## Creating Example Data"
     ]
    },
    {
     "cell_type": "code",
     "collapsed": false,
     "input": [
      "rng = pd.date_range('2014/1/1', periods=100, freq='D')\n",
      "data = np.random.randn(100, 4)\n",
      "cols = ['A', 'B', 'C', 'D']\n",
      "df1 = df2 = df3 = pd.DataFrame(data, index=rng, columns=cols)\n",
      "pf = pd.Panel({'df1': df1, 'df2': df2, 'df3': df3})\n",
      "pft = pf.transpose(2, 0, 1)\n",
      "pft"
     ],
     "language": "python",
     "metadata": {},
     "outputs": [
      {
       "metadata": {},
       "output_type": "pyout",
       "prompt_number": 25,
       "text": [
        "<class 'pandas.core.panel.Panel'>\n",
        "Dimensions: 4 (items) x 3 (major_axis) x 100 (minor_axis)\n",
        "Items axis: A to D\n",
        "Major_axis axis: df1 to df3\n",
        "Minor_axis axis: 2014-01-01 00:00:00 to 2014-04-10 00:00:00"
       ]
      }
     ],
     "prompt_number": 25
    }
   ],
   "metadata": {}
  }
 ]
}