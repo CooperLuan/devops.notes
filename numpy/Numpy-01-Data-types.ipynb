{
 "metadata": {
  "name": "",
  "signature": "sha256:7d1b971d0987e1ab6365edd383723bcbf31c348a30d722770c8e8522335f1c07"
 },
 "nbformat": 3,
 "nbformat_minor": 0,
 "worksheets": [
  {
   "cells": [
    {
     "cell_type": "code",
     "collapsed": false,
     "input": [
      "from IPython.display import display_pretty"
     ],
     "language": "python",
     "metadata": {},
     "outputs": [],
     "prompt_number": 4
    },
    {
     "cell_type": "markdown",
     "metadata": {},
     "source": [
      "# [Data types](http://docs.scipy.org/doc/numpy/user/basics.types.html#data-types)\n",
      "\n",
      "\n",
      "- `bool_`   Boolean (True or False) stored as a byte\n",
      "- `int_`    Default integer type (same as C long; normally either int64 or int32)\n",
      "- `intc`    Identical to C int (normally int32 or int64)\n",
      "- `intp`    Integer used for indexing (same as C ssize_t; normally either int32 or int64)\n",
      "- `int8`    Byte (-128 to 127)\n",
      "- `int16`   Integer (-32768 to 32767)\n",
      "- `int32`   Integer (-2147483648 to 2147483647)\n",
      "- `int64`   Integer (-9223372036854775808 to 9223372036854775807)\n",
      "- `uint8`   Unsigned integer (0 to 255)\n",
      "- `uint16`  Unsigned integer (0 to 65535)\n",
      "- `uint32`  Unsigned integer (0 to 4294967295)\n",
      "- `uint64`  Unsigned integer (0 to 18446744073709551615)\n",
      "- `float_`  Shorthand for float64.\n",
      "- `float16` Half precision float: sign bit, 5 bits exponent, 10 bits mantissa\n",
      "- `float32` Single precision float: sign bit, 8 bits exponent, 23 bits mantissa\n",
      "- `float64` Double precision float: sign bit, 11 bits exponent, 52 bits mantissa\n",
      "- `complex_`    Shorthand for complex128.\n",
      "- `complex64`   Complex number, represented by two 32-bit floats (real and imaginary components)\n",
      "- `complex128`  Complex number, represented by two 64-bit floats (real and imaginary components)\n"
     ]
    },
    {
     "cell_type": "code",
     "collapsed": false,
     "input": [
      "import numpy as np\n",
      "a = np.float32(1.)\n",
      "b = np.int_([1,2,3.1])\n",
      "c = np.arange(1, 10, dtype=np.uint8)\n",
      "d = a.astype(np.uint16)\n",
      "display_pretty(a, b, c, d, d.dtype)"
     ],
     "language": "python",
     "metadata": {},
     "outputs": [
      {
       "metadata": {},
       "output_type": "display_data",
       "text": [
        "1.0"
       ]
      },
      {
       "metadata": {},
       "output_type": "display_data",
       "text": [
        "array([1, 2, 3])"
       ]
      },
      {
       "metadata": {},
       "output_type": "display_data",
       "text": [
        "array([1, 2, 3, 4, 5, 6, 7, 8, 9], dtype=uint8)"
       ]
      },
      {
       "metadata": {},
       "output_type": "display_data",
       "text": [
        "1"
       ]
      },
      {
       "metadata": {},
       "output_type": "display_data",
       "text": [
        "dtype('uint16')"
       ]
      }
     ],
     "prompt_number": 5
    }
   ],
   "metadata": {}
  }
 ]
}