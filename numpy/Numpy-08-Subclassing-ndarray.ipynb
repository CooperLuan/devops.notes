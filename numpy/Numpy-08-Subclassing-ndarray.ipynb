{
 "metadata": {
  "name": "",
  "signature": "sha256:61a979cdd040583266cfbeeebfbdc40301c927051c2aafdffe09e2bc82ef885b"
 },
 "nbformat": 3,
 "nbformat_minor": 0,
 "worksheets": [
  {
   "cells": [
    {
     "cell_type": "markdown",
     "metadata": {},
     "source": [
      "# [Subclassing ndarray](http://docs.scipy.org/doc/numpy/user/basics.subclassing.html)"
     ]
    }
   ],
   "metadata": {}
  }
 ]
}