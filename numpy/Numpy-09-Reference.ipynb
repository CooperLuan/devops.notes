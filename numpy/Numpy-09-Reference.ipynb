{
 "metadata": {
  "name": "",
  "signature": "sha256:d32c4a55407afc250812fcd472b8852bfc0f2b5653e5632bb8e5aad99cd8c709"
 },
 "nbformat": 3,
 "nbformat_minor": 0,
 "worksheets": [
  {
   "cells": [
    {
     "cell_type": "code",
     "collapsed": false,
     "input": [
      "from IPython.display import display_pretty\n",
      "import numpy as np"
     ],
     "language": "python",
     "metadata": {},
     "outputs": []
    },
    {
     "cell_type": "markdown",
     "metadata": {},
     "source": [
      "# Numpy Reference\n",
      "\n",
      "- array object\n",
      "- ndarray\n",
      "- `np.transpose` permute the dimensions of an array\n",
      "- `np.broadcast`\n",
      "- `np.expand_dims` expand shape of an array\n",
      "- `np.squeeze`\n",
      "- `np.asarray`\n",
      "  - `np.asanyarray`\n",
      "  - `np.asfarray` parse array to float\n",
      "  - `np.asfortranarray\n",
      "- `np.asmatrix`\n",
      "- `np.asscalar`\n",
      "- `np.require`\n",
      "- [np.column_stack](#np-column_stack)\n",
      "- [np.concatenate](#np-concatenate) join a sequence of array together\n",
      "- [np.dstack](#np-dstack)\n",
      "- np.hstack\n",
      "- np.vstack\n",
      "- np.array_split\n",
      "  - np.dsplit\n",
      "  - np.hsplit\n",
      "  - np.split\n",
      "  - np.vsplit\n",
      "- [np.tile](#np-tile)\n",
      "- np.repeat\n",
      "- np.delete\n",
      "- np.insert\n",
      "- np.append\n",
      "- np.resize\n",
      "- np.trim_zeros\n",
      "- np.unique\n",
      "- np.in1d\n",
      "- np.intersec1d\n",
      "- np.setdiff1d\n",
      "- np.setxor1d\n",
      "- np.union1d\n",
      "\n",
      "## sorting\n",
      "\n",
      "- [np.sort](#np-sort)\n",
      "- np.lexsort\n",
      "- np.argsort\n",
      "- np.ndarray.sort\n",
      "- np.msort\n",
      "- np.sort_complex\n",
      "- np.partition\n",
      "- np.argpartition\n",
      "- np.argmax\n",
      "- np.nanargmax\n",
      "- np.argmin\n",
      "- np.nanargmin\n",
      "\n",
      "## Indexing\n",
      "\n",
      "- np.argwhere\n",
      "- np.nonzero\n",
      "- np.flatnonzero\n",
      "- [np.where](#np-where)\n",
      "- `np.searchsorted` return the index where element should be inserted in maintain order\n",
      "- np.extract\n",
      "- np.count_nonzero"
     ]
    },
    {
     "cell_type": "markdown",
     "metadata": {},
     "source": [
      "### np.column_stack"
     ]
    },
    {
     "cell_type": "code",
     "collapsed": false,
     "input": [
      "a = [1, 2, 3]\n",
      "b = [4, 5, 6]\n",
      "np.column_stack((a, b))"
     ],
     "language": "python",
     "metadata": {},
     "outputs": []
    },
    {
     "cell_type": "markdown",
     "metadata": {},
     "source": [
      "### np.concatenate"
     ]
    },
    {
     "cell_type": "code",
     "collapsed": false,
     "input": [
      "a = np.array([[1,2], [3,4]])\n",
      "b = np.array([[5,6]])\n",
      "x1 = np.concatenate((a, b), axis=0)\n",
      "x2 = np.concatenate((a, b.T), axis=1)\n",
      "display_pretty(x1, x2)"
     ],
     "language": "python",
     "metadata": {},
     "outputs": []
    },
    {
     "cell_type": "markdown",
     "metadata": {},
     "source": [
      "### np.dstack"
     ]
    },
    {
     "cell_type": "code",
     "collapsed": false,
     "input": [
      "a = np.array((1, 2, 3))\n",
      "b = np.array((4, 5, 6))\n",
      "np.dstack((a, b))"
     ],
     "language": "python",
     "metadata": {},
     "outputs": []
    },
    {
     "cell_type": "markdown",
     "metadata": {},
     "source": [
      "### np.tile"
     ]
    },
    {
     "cell_type": "code",
     "collapsed": false,
     "input": [
      "a = np.array((0, 1, 2))\n",
      "np.tile(a, 2)"
     ],
     "language": "python",
     "metadata": {},
     "outputs": []
    },
    {
     "cell_type": "markdown",
     "metadata": {},
     "source": [
      "### np.sort"
     ]
    },
    {
     "cell_type": "code",
     "collapsed": false,
     "input": [
      "a = np.array([[1, 5, 3], [2, 3, 1]])\n",
      "np.sort(a, axis=0)"
     ],
     "language": "python",
     "metadata": {},
     "outputs": []
    },
    {
     "cell_type": "markdown",
     "metadata": {},
     "source": [
      "## np.where"
     ]
    },
    {
     "cell_type": "code",
     "collapsed": false,
     "input": [
      "cond = [[True, False], [True, True]]\n",
      "x = [[1, 2], [3, 4]]\n",
      "y = [[9, 8], [7, 6]]\n",
      "a = np.where(cond, x, y)\n",
      "display_pretty(a)\n",
      "\n",
      "# equal to blow\n",
      "for c, xv, yv in zip(cond, x, y):\n",
      "    for c2, xv2, yv2 in zip(c, xv, yv):\n",
      "        print(xv2 if c2 else yv2, end=', ')\n",
      "print()\n",
      "\n",
      "x = np.arange(9).reshape((3, 3))\n",
      "display_pretty(x > 5)\n",
      "b = np.where(x > 5)\n",
      "display_pretty(b)\n",
      "\n",
      "# frequently use\n",
      "c = np.where(x > 3, x, -1)\n",
      "display_pretty(c)"
     ],
     "language": "python",
     "metadata": {},
     "outputs": []
    }
   ],
   "metadata": {}
  }
 ]
}