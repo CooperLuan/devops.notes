{
 "metadata": {
  "name": "",
  "signature": "sha256:c6840f678ffa8a1b722da7ca8ac3e243f547c41480ee7fd16e2704af9abe9f59"
 },
 "nbformat": 3,
 "nbformat_minor": 0,
 "worksheets": [
  {
   "cells": [
    {
     "cell_type": "code",
     "collapsed": false,
     "input": [
      "from IPython.display import display_pretty\n",
      "import numpy as np"
     ],
     "language": "python",
     "metadata": {},
     "outputs": []
    },
    {
     "cell_type": "markdown",
     "metadata": {},
     "source": [
      "## indexing\n",
      "\n",
      "- common single element indexing\n",
      "- complex indexing\n",
      "- index arrays\n",
      "- Boolean or \u201cmask\u201d index arrays\n",
      "- Structural indexing tools\n",
      "- Assigning values to indexed arrays\n",
      "- Dealing with variable numbers of indices within programs"
     ]
    },
    {
     "cell_type": "code",
     "collapsed": false,
     "input": [
      "a = np.arange(35).reshape(5,7)\n",
      "b = a[1:5:2, ::3]\n",
      "c = a[[0, 2, 4], [0, 1, 2]]\n",
      "d = a[[0, 2, 4], 1]\n",
      "x = np.arange(10, 0, -1)\n",
      "e = x[np.array([[1, 5], [4, 6]])]\n",
      "display_pretty(b ,c, d, e)\n",
      "\n",
      "# boolean/mask indexing ways\n",
      "f = x[x>5]\n",
      "display_pretty(f)\n",
      "\n",
      "g = a > 20\n",
      "h = g[:, 5]\n",
      "i = a[h]\n",
      "display_pretty(g, h, i)"
     ],
     "language": "python",
     "metadata": {},
     "outputs": []
    },
    {
     "cell_type": "markdown",
     "metadata": {},
     "source": [
      "### Structural indexing tools"
     ]
    },
    {
     "cell_type": "code",
     "collapsed": false,
     "input": [
      "x = np.arange(0, 5)\n",
      "y1 = x[:, np.newaxis] + x[np.newaxis, :]\n",
      "x = np.arange(81).reshape([3, 3, 3, 3])\n",
      "y2 = x[1, :, :, 2]\n",
      "display_pretty(y1, y2)"
     ],
     "language": "python",
     "metadata": {},
     "outputs": []
    },
    {
     "cell_type": "markdown",
     "metadata": {},
     "source": [
      "### Assigning values to indexed arrays"
     ]
    },
    {
     "cell_type": "code",
     "collapsed": false,
     "input": [
      "x = np.arange(10, 50, 10)\n",
      "x[np.array([1, 1, 3, 1])] += 1\n",
      "x"
     ],
     "language": "python",
     "metadata": {},
     "outputs": []
    },
    {
     "cell_type": "markdown",
     "metadata": {},
     "source": [
      "### Dealing with variable numbers of indices within programs"
     ]
    },
    {
     "cell_type": "code",
     "collapsed": false,
     "input": [
      "x = np.arange(81).reshape([3, 3, 3, 3])\n",
      "y1 = x[1, 1, 1, 1]\n",
      "y2 = x[[1, 1, 1, 1]]\n",
      "display_pretty(y1, y2)"
     ],
     "language": "python",
     "metadata": {},
     "outputs": []
    }
   ],
   "metadata": {}
  }
 ]
}