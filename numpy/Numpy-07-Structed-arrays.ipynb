{
 "metadata": {
  "name": "",
  "signature": "sha256:32feba028f00b5a305ebb7fbdb1cb46e3c9bd0ec274251b705adc03972e3aa7f"
 },
 "nbformat": 3,
 "nbformat_minor": 0,
 "worksheets": [
  {
   "cells": [
    {
     "cell_type": "markdown",
     "metadata": {},
     "source": [
      "# [Structed arrays](http://docs.scipy.org/doc/numpy/user/basics.rec.html)"
     ]
    }
   ],
   "metadata": {}
  }
 ]
}