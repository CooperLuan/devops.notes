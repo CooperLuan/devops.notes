{
 "metadata": {
  "name": "",
  "signature": "sha256:b4ae8f148379ea75370a98e051235e350a96f5be5f6223ef3ef2ac7d9c01c0f3"
 },
 "nbformat": 3,
 "nbformat_minor": 0,
 "worksheets": [
  {
   "cells": [
    {
     "cell_type": "code",
     "collapsed": false,
     "input": [
      "from IPython.display import display_pretty\n",
      "import numpy as np\n",
      "from io import StringIO, BytesIO"
     ],
     "language": "python",
     "metadata": {},
     "outputs": []
    },
    {
     "cell_type": "markdown",
     "metadata": {},
     "source": [
      "# I/O with numpy\n",
      "\n",
      "## importing data with genfromtext\n",
      "\n",
      "- spliting lines into columns\n",
      "- skiping lines and choose columns\n",
      "- choosing the data type\n",
      "- setting the names\n",
      "- tweaking the conversion\n",
      "- Using missing and filling values"
     ]
    },
    {
     "cell_type": "code",
     "collapsed": false,
     "input": [
      "data = '''\n",
      "c1, c2, c3\n",
      "1, 2, 3\n",
      "// here is the comment line\n",
      "4, 5, 6\n",
      "7,8,9\n",
      "-1, -1, -1\n",
      "end, end, end\n",
      "'''.encode()\n",
      "a = np.genfromtxt(BytesIO(data), delimiter=',', comments='//')\n",
      "b = np.genfromtxt(BytesIO(data), delimiter=',', dtype='|S5', autostrip=True, comments='//')\n",
      "c = np.genfromtxt(BytesIO(data), delimiter=',', comments='//', skip_header=2, skip_footer=1)\n",
      "d = np.genfromtxt(\n",
      "    BytesIO(data),\n",
      "    delimiter=',',\n",
      "    comments='//',\n",
      "    skip_header=1, skip_footer=1,\n",
      "    names=True,\n",
      "    usecols=('c1', 'c3'))\n",
      "e = np.genfromtxt(\n",
      "    BytesIO(data), delimiter=',', autostrip=True, comments='//',\n",
      "    skip_header=2, skip_footer=1,\n",
      "    converters={0: lambda x: float(x) ** 2})\n",
      "display_pretty(a, b, c, d, e)"
     ],
     "language": "python",
     "metadata": {},
     "outputs": []
    }
   ],
   "metadata": {}
  }
 ]
}