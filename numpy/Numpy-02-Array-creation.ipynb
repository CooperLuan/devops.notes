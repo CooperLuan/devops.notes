{
 "metadata": {
  "name": "",
  "signature": "sha256:0a0a67643f65e9cd7baa3fb042cc7f2bf0ba9880d243de049cd828811f0fd564"
 },
 "nbformat": 3,
 "nbformat_minor": 0,
 "worksheets": [
  {
   "cells": [
    {
     "cell_type": "code",
     "collapsed": false,
     "input": [
      "from IPython.display import display_pretty"
     ],
     "language": "python",
     "metadata": {},
     "outputs": [],
     "prompt_number": 12
    },
    {
     "cell_type": "markdown",
     "metadata": {},
     "source": [
      "# [Array creation](http://docs.scipy.org/doc/numpy/user/basics.creation.html#array-creation)\n",
      "\n",
      "- convert python array-like objects\n",
      "- intrinsic Numpy Array creation\n",
      "- reading array from disk"
     ]
    },
    {
     "cell_type": "code",
     "collapsed": false,
     "input": [
      "import numpy as np\n",
      "a = np.zeros((2, 3))\n",
      "b = np.arange(1, 10, 0.5)\n",
      "c = np.linspace(0, 10, 20)\n",
      "d = np.array([1, 2.0, 1 + 3j])\n",
      "display_pretty(a, b, c, d)"
     ],
     "language": "python",
     "metadata": {},
     "outputs": [
      {
       "metadata": {},
       "output_type": "display_data",
       "text": [
        "array([[ 0.,  0.,  0.],\n",
        "       [ 0.,  0.,  0.]])"
       ]
      },
      {
       "metadata": {},
       "output_type": "display_data",
       "text": [
        "array([ 1. ,  1.5,  2. ,  2.5,  3. ,  3.5,  4. ,  4.5,  5. ,  5.5,  6. ,\n",
        "        6.5,  7. ,  7.5,  8. ,  8.5,  9. ,  9.5])"
       ]
      },
      {
       "metadata": {},
       "output_type": "display_data",
       "text": [
        "array([  0.        ,   0.52631579,   1.05263158,   1.57894737,\n",
        "         2.10526316,   2.63157895,   3.15789474,   3.68421053,\n",
        "         4.21052632,   4.73684211,   5.26315789,   5.78947368,\n",
        "         6.31578947,   6.84210526,   7.36842105,   7.89473684,\n",
        "         8.42105263,   8.94736842,   9.47368421,  10.        ])"
       ]
      },
      {
       "metadata": {},
       "output_type": "display_data",
       "text": [
        "array([ 1.+0.j,  2.+0.j,  1.+3.j])"
       ]
      }
     ],
     "prompt_number": 13
    }
   ],
   "metadata": {}
  }
 ]
}